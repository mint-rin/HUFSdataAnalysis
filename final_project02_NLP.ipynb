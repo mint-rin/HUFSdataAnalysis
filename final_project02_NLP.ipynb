{
  "nbformat": 4,
  "nbformat_minor": 0,
  "metadata": {
    "colab": {
      "provenance": [],
      "authorship_tag": "ABX9TyPQVi9EB6Fwp4vAQuqix3xR",
      "include_colab_link": true
    },
    "kernelspec": {
      "name": "python3",
      "display_name": "Python 3"
    },
    "language_info": {
      "name": "python"
    }
  },
  "cells": [
    {
      "cell_type": "markdown",
      "metadata": {
        "id": "view-in-github",
        "colab_type": "text"
      },
      "source": [
        "<a href=\"https://colab.research.google.com/github/mint-rin/HUFSdataAnalysis/blob/main/final_project02_NLP.ipynb\" target=\"_parent\"><img src=\"https://colab.research.google.com/assets/colab-badge.svg\" alt=\"Open In Colab\"/></a>"
      ]
    },
    {
      "cell_type": "code",
      "execution_count": null,
      "metadata": {
        "colab": {
          "base_uri": "https://localhost:8080/"
        },
        "id": "bgBXFhJ0sboj",
        "outputId": "9e1d291e-e292-4e41-bd8f-ff5401d6b041"
      },
      "outputs": [
        {
          "output_type": "stream",
          "name": "stdout",
          "text": [
            "Reading package lists... Done\n",
            "Building dependency tree       \n",
            "Reading state information... Done\n",
            "fonts-nanum is already the newest version (20180306-3).\n",
            "The following package was automatically installed and is no longer required:\n",
            "  libnvidia-common-510\n",
            "Use 'sudo apt autoremove' to remove it.\n",
            "0 upgraded, 0 newly installed, 0 to remove and 28 not upgraded.\n",
            "/usr/share/fonts: caching, new cache contents: 0 fonts, 1 dirs\n",
            "/usr/share/fonts/truetype: caching, new cache contents: 0 fonts, 3 dirs\n",
            "/usr/share/fonts/truetype/humor-sans: caching, new cache contents: 1 fonts, 0 dirs\n",
            "/usr/share/fonts/truetype/liberation: caching, new cache contents: 16 fonts, 0 dirs\n",
            "/usr/share/fonts/truetype/nanum: caching, new cache contents: 10 fonts, 0 dirs\n",
            "/usr/local/share/fonts: caching, new cache contents: 0 fonts, 0 dirs\n",
            "/root/.local/share/fonts: skipping, no such directory\n",
            "/root/.fonts: skipping, no such directory\n",
            "/usr/share/fonts/truetype: skipping, looped directory detected\n",
            "/usr/share/fonts/truetype/humor-sans: skipping, looped directory detected\n",
            "/usr/share/fonts/truetype/liberation: skipping, looped directory detected\n",
            "/usr/share/fonts/truetype/nanum: skipping, looped directory detected\n",
            "/var/cache/fontconfig: cleaning cache directory\n",
            "/root/.cache/fontconfig: not cleaning non-existent cache directory\n",
            "/root/.fontconfig: not cleaning non-existent cache directory\n",
            "fc-cache: succeeded\n"
          ]
        }
      ],
      "source": [
        "# 한글 폰트를 설치\n",
        "\n",
        "!sudo apt-get install -y fonts-nanum\n",
        "!sudo fc-cache -fv\n",
        "!rm ~/.cache/matplotlib -rf"
      ]
    },
    {
      "cell_type": "markdown",
      "source": [
        "# 라이브러리 불러오기"
      ],
      "metadata": {
        "id": "0cbZ0VNykqS3"
      }
    },
    {
      "cell_type": "code",
      "source": [
        "import pandas as pd\n",
        "import numpy as np\n",
        "\n",
        "import os, re\n",
        "from tqdm import tqdm\n",
        "\n",
        "# 경고문구 미표시\n",
        "import warnings\n",
        "warnings.filterwarnings('ignore')\n",
        "\n",
        "# 한글 폰트 지정\n",
        "import matplotlib.pyplot as plt\n",
        "plt.rc('font', family='NanumBarunGothic')"
      ],
      "metadata": {
        "id": "nKkfoS3_s36P"
      },
      "execution_count": null,
      "outputs": []
    },
    {
      "cell_type": "markdown",
      "source": [
        "# 네이버 영화 리뷰 데이터 - 다운로드"
      ],
      "metadata": {
        "id": "5oYE_dHok1X7"
      }
    },
    {
      "cell_type": "code",
      "source": [
        "# txt 파일을 판다스 데이터프레임으로 읽어오기\n",
        "df = pd.read_csv('zootopia.csv')\n",
        "\n",
        "# 데이터프레임의 크기\n",
        "print(df.shape)\n",
        "\n",
        "# 첫 5행을 출력\n",
        "df.head()"
      ],
      "metadata": {
        "colab": {
          "base_uri": "https://localhost:8080/",
          "height": 224
        },
        "id": "IyAHclWip0Vw",
        "outputId": "897814f6-ab60-4c50-f5d6-5be92f873439"
      },
      "execution_count": null,
      "outputs": [
        {
          "output_type": "stream",
          "name": "stdout",
          "text": [
            "(10, 3)\n"
          ]
        },
        {
          "output_type": "execute_result",
          "data": {
            "text/plain": [
              "                                  title      user  \\\n",
              "0                       주토피아 (Zootopia)  trav****   \n",
              "1  주토피아 시사회 후기 - '편견'과 '다르다' 대해서 (스포주의)  dlax****   \n",
              "2         [영화/시사회] 주토피아 _ 세상은 생각보다 단순하다  dbw8****   \n",
              "3              주토피아를 보고 드는 의문점 (중간에 스포)  mira****   \n",
              "4             불평등을 인정하고 내 삶을 능동적으로 창조하자  dldl****   \n",
              "\n",
              "                                              review  \n",
              "0  \\n★★★★☆\"사회문제조차도 따뜻하게 포용하는 디즈니의 또다른 걸작.\"픽사는 디즈니...  \n",
              "1  \\n※글 작성 관련하여 스포가 조금 있으니 피하고자 하시는 분은 뒤로가기를...--...  \n",
              "2  \\n​​첫인상은 솔직히 별로였다. 행여나 끝나는 순간까지 '노력으로 환경을 이겨내는...  \n",
              "3  \\n우선, 영화는 영상과 설정과 케릭터만 매력적이고 스토리는 그닥... 이라는 생각...  \n",
              "4  \\n취미로 글쓰는 중 입니다~ 많이 미흡해도 이쁘게 봐주세요!!한 사람의 인생을 멀...  "
            ],
            "text/html": [
              "\n",
              "  <div id=\"df-0351f416-5f30-4927-aa8b-304321613036\">\n",
              "    <div class=\"colab-df-container\">\n",
              "      <div>\n",
              "<style scoped>\n",
              "    .dataframe tbody tr th:only-of-type {\n",
              "        vertical-align: middle;\n",
              "    }\n",
              "\n",
              "    .dataframe tbody tr th {\n",
              "        vertical-align: top;\n",
              "    }\n",
              "\n",
              "    .dataframe thead th {\n",
              "        text-align: right;\n",
              "    }\n",
              "</style>\n",
              "<table border=\"1\" class=\"dataframe\">\n",
              "  <thead>\n",
              "    <tr style=\"text-align: right;\">\n",
              "      <th></th>\n",
              "      <th>title</th>\n",
              "      <th>user</th>\n",
              "      <th>review</th>\n",
              "    </tr>\n",
              "  </thead>\n",
              "  <tbody>\n",
              "    <tr>\n",
              "      <th>0</th>\n",
              "      <td>주토피아 (Zootopia)</td>\n",
              "      <td>trav****</td>\n",
              "      <td>\\n★★★★☆\"사회문제조차도 따뜻하게 포용하는 디즈니의 또다른 걸작.\"픽사는 디즈니...</td>\n",
              "    </tr>\n",
              "    <tr>\n",
              "      <th>1</th>\n",
              "      <td>주토피아 시사회 후기 - '편견'과 '다르다' 대해서 (스포주의)</td>\n",
              "      <td>dlax****</td>\n",
              "      <td>\\n※글 작성 관련하여 스포가 조금 있으니 피하고자 하시는 분은 뒤로가기를...--...</td>\n",
              "    </tr>\n",
              "    <tr>\n",
              "      <th>2</th>\n",
              "      <td>[영화/시사회] 주토피아 _ 세상은 생각보다 단순하다</td>\n",
              "      <td>dbw8****</td>\n",
              "      <td>\\n​​첫인상은 솔직히 별로였다. 행여나 끝나는 순간까지 '노력으로 환경을 이겨내는...</td>\n",
              "    </tr>\n",
              "    <tr>\n",
              "      <th>3</th>\n",
              "      <td>주토피아를 보고 드는 의문점 (중간에 스포)</td>\n",
              "      <td>mira****</td>\n",
              "      <td>\\n우선, 영화는 영상과 설정과 케릭터만 매력적이고 스토리는 그닥... 이라는 생각...</td>\n",
              "    </tr>\n",
              "    <tr>\n",
              "      <th>4</th>\n",
              "      <td>불평등을 인정하고 내 삶을 능동적으로 창조하자</td>\n",
              "      <td>dldl****</td>\n",
              "      <td>\\n취미로 글쓰는 중 입니다~ 많이 미흡해도 이쁘게 봐주세요!!한 사람의 인생을 멀...</td>\n",
              "    </tr>\n",
              "  </tbody>\n",
              "</table>\n",
              "</div>\n",
              "      <button class=\"colab-df-convert\" onclick=\"convertToInteractive('df-0351f416-5f30-4927-aa8b-304321613036')\"\n",
              "              title=\"Convert this dataframe to an interactive table.\"\n",
              "              style=\"display:none;\">\n",
              "        \n",
              "  <svg xmlns=\"http://www.w3.org/2000/svg\" height=\"24px\"viewBox=\"0 0 24 24\"\n",
              "       width=\"24px\">\n",
              "    <path d=\"M0 0h24v24H0V0z\" fill=\"none\"/>\n",
              "    <path d=\"M18.56 5.44l.94 2.06.94-2.06 2.06-.94-2.06-.94-.94-2.06-.94 2.06-2.06.94zm-11 1L8.5 8.5l.94-2.06 2.06-.94-2.06-.94L8.5 2.5l-.94 2.06-2.06.94zm10 10l.94 2.06.94-2.06 2.06-.94-2.06-.94-.94-2.06-.94 2.06-2.06.94z\"/><path d=\"M17.41 7.96l-1.37-1.37c-.4-.4-.92-.59-1.43-.59-.52 0-1.04.2-1.43.59L10.3 9.45l-7.72 7.72c-.78.78-.78 2.05 0 2.83L4 21.41c.39.39.9.59 1.41.59.51 0 1.02-.2 1.41-.59l7.78-7.78 2.81-2.81c.8-.78.8-2.07 0-2.86zM5.41 20L4 18.59l7.72-7.72 1.47 1.35L5.41 20z\"/>\n",
              "  </svg>\n",
              "      </button>\n",
              "      \n",
              "  <style>\n",
              "    .colab-df-container {\n",
              "      display:flex;\n",
              "      flex-wrap:wrap;\n",
              "      gap: 12px;\n",
              "    }\n",
              "\n",
              "    .colab-df-convert {\n",
              "      background-color: #E8F0FE;\n",
              "      border: none;\n",
              "      border-radius: 50%;\n",
              "      cursor: pointer;\n",
              "      display: none;\n",
              "      fill: #1967D2;\n",
              "      height: 32px;\n",
              "      padding: 0 0 0 0;\n",
              "      width: 32px;\n",
              "    }\n",
              "\n",
              "    .colab-df-convert:hover {\n",
              "      background-color: #E2EBFA;\n",
              "      box-shadow: 0px 1px 2px rgba(60, 64, 67, 0.3), 0px 1px 3px 1px rgba(60, 64, 67, 0.15);\n",
              "      fill: #174EA6;\n",
              "    }\n",
              "\n",
              "    [theme=dark] .colab-df-convert {\n",
              "      background-color: #3B4455;\n",
              "      fill: #D2E3FC;\n",
              "    }\n",
              "\n",
              "    [theme=dark] .colab-df-convert:hover {\n",
              "      background-color: #434B5C;\n",
              "      box-shadow: 0px 1px 3px 1px rgba(0, 0, 0, 0.15);\n",
              "      filter: drop-shadow(0px 1px 2px rgba(0, 0, 0, 0.3));\n",
              "      fill: #FFFFFF;\n",
              "    }\n",
              "  </style>\n",
              "\n",
              "      <script>\n",
              "        const buttonEl =\n",
              "          document.querySelector('#df-0351f416-5f30-4927-aa8b-304321613036 button.colab-df-convert');\n",
              "        buttonEl.style.display =\n",
              "          google.colab.kernel.accessAllowed ? 'block' : 'none';\n",
              "\n",
              "        async function convertToInteractive(key) {\n",
              "          const element = document.querySelector('#df-0351f416-5f30-4927-aa8b-304321613036');\n",
              "          const dataTable =\n",
              "            await google.colab.kernel.invokeFunction('convertToInteractive',\n",
              "                                                     [key], {});\n",
              "          if (!dataTable) return;\n",
              "\n",
              "          const docLinkHtml = 'Like what you see? Visit the ' +\n",
              "            '<a target=\"_blank\" href=https://colab.research.google.com/notebooks/data_table.ipynb>data table notebook</a>'\n",
              "            + ' to learn more about interactive tables.';\n",
              "          element.innerHTML = '';\n",
              "          dataTable['output_type'] = 'display_data';\n",
              "          await google.colab.output.renderOutput(dataTable, element);\n",
              "          const docLink = document.createElement('div');\n",
              "          docLink.innerHTML = docLinkHtml;\n",
              "          element.appendChild(docLink);\n",
              "        }\n",
              "      </script>\n",
              "    </div>\n",
              "  </div>\n",
              "  "
            ]
          },
          "metadata": {},
          "execution_count": 31
        }
      ]
    },
    {
      "cell_type": "markdown",
      "source": [
        "# 한글 형태소 분석\n"
      ],
      "metadata": {
        "id": "k-xdfOMKqoQJ"
      }
    },
    {
      "cell_type": "markdown",
      "source": [
        "## 1) KoNLPy 설치 (코랩에서 실습할 경우)"
      ],
      "metadata": {
        "id": "uHDauKiTyiOj"
      }
    },
    {
      "cell_type": "code",
      "source": [
        "# 코랩에 KoNLPY 패키지를 설치\n",
        "! pip install konlpy"
      ],
      "metadata": {
        "colab": {
          "base_uri": "https://localhost:8080/"
        },
        "id": "e3r1JkH0q5wQ",
        "outputId": "126e1e08-73ea-47a5-f787-39f11e44d1ea"
      },
      "execution_count": null,
      "outputs": [
        {
          "output_type": "stream",
          "name": "stdout",
          "text": [
            "Looking in indexes: https://pypi.org/simple, https://us-python.pkg.dev/colab-wheels/public/simple/\n",
            "Requirement already satisfied: konlpy in /usr/local/lib/python3.8/dist-packages (0.6.0)\n",
            "Requirement already satisfied: lxml>=4.1.0 in /usr/local/lib/python3.8/dist-packages (from konlpy) (4.9.2)\n",
            "Requirement already satisfied: numpy>=1.6 in /usr/local/lib/python3.8/dist-packages (from konlpy) (1.21.6)\n",
            "Requirement already satisfied: JPype1>=0.7.0 in /usr/local/lib/python3.8/dist-packages (from konlpy) (1.4.1)\n",
            "Requirement already satisfied: packaging in /usr/local/lib/python3.8/dist-packages (from JPype1>=0.7.0->konlpy) (23.0)\n"
          ]
        }
      ]
    },
    {
      "cell_type": "markdown",
      "source": [
        "## 2) KoNLPy 한글 형태소 분석"
      ],
      "metadata": {
        "id": "pZQM7PplCNVa"
      }
    },
    {
      "cell_type": "code",
      "source": [
        "sample_text = str(df['review'])\n",
        "print(type(sample_text))\n",
        "print(sample_text)"
      ],
      "metadata": {
        "colab": {
          "base_uri": "https://localhost:8080/"
        },
        "id": "SnXheMz52IPA",
        "outputId": "16f45404-4947-44a4-e550-c59d69d3090a"
      },
      "execution_count": null,
      "outputs": [
        {
          "output_type": "stream",
          "name": "stdout",
          "text": [
            "<class 'str'>\n",
            "0    \\n★★★★☆\"사회문제조차도 따뜻하게 포용하는 디즈니의 또다른 걸작.\"픽사는 디즈니...\n",
            "1    \\n※글 작성 관련하여 스포가 조금 있으니 피하고자 하시는 분은 뒤로가기를...--...\n",
            "2    \\n​​첫인상은 솔직히 별로였다. 행여나 끝나는 순간까지 '노력으로 환경을 이겨내는...\n",
            "3    \\n우선, 영화는 영상과 설정과 케릭터만 매력적이고 스토리는 그닥... 이라는 생각...\n",
            "4    \\n취미로 글쓰는 중 입니다~ 많이 미흡해도 이쁘게 봐주세요!!한 사람의 인생을 멀...\n",
            "5    \\n\\n당근 농장이 있는 촌에 살고 있던 토끼는세상을 좋게 만들겠다는 꿈을 갖고이상...\n",
            "6    \\n   지니퍼 굿윈의 영화 주토피아는, 정말 잘 만든 애니메이션이다. 지니퍼 굿윈...\n",
            "7    \\n\\n\\n\\n\\n주토피아\\n\\n감독\\n바이론 하워드, 리치 무어\\n출연\\n지니퍼 ...\n",
            "8    \\n지니퍼 굿윈(주디 홉스), 제이슨 베이트먼(닉 와일드), 샤키라(가젤), 이드리...\n",
            "9    \\n영화 시사회에 다녀왔다.뭔가 검사외전의 애니메이션 버전일 것 같은정의의 편과 사...\n",
            "Name: review, dtype: object\n"
          ]
        }
      ]
    },
    {
      "cell_type": "code",
      "source": [
        "# 트위터 형태소 분석기(Okt)를 활용\n",
        "from konlpy.utils import pprint\n",
        "from konlpy.tag import Okt\n",
        "okt = Okt()\n",
        "print(okt)"
      ],
      "metadata": {
        "colab": {
          "base_uri": "https://localhost:8080/"
        },
        "id": "x3oXIbbarBwD",
        "outputId": "23dac64c-388d-4607-af29-aeb4da46171b"
      },
      "execution_count": null,
      "outputs": [
        {
          "output_type": "stream",
          "name": "stdout",
          "text": [
            "<konlpy.tag._okt.Okt object at 0x7f0c1c204df0>\n"
          ]
        }
      ]
    },
    {
      "cell_type": "code",
      "source": [
        "# (단어, 품사) 추출\n",
        "tokens = okt.pos(sample_text)\n",
        "pprint(tokens)"
      ],
      "metadata": {
        "colab": {
          "base_uri": "https://localhost:8080/"
        },
        "id": "TqRui0SRrFby",
        "outputId": "85f644ce-1b1c-4169-c711-4697331346bd"
      },
      "execution_count": null,
      "outputs": [
        {
          "output_type": "stream",
          "name": "stdout",
          "text": [
            "[('0', 'Number'),\n",
            " ('\\\\', 'Punctuation'),\n",
            " ('n', 'Alpha'),\n",
            " ('★★★★☆', 'Foreign'),\n",
            " ('\"', 'Punctuation'),\n",
            " ('사회', 'Noun'),\n",
            " ('문제', 'Noun'),\n",
            " ('조차도', 'Josa'),\n",
            " ('따뜻하게', 'Adjective'),\n",
            " ('포', 'Noun'),\n",
            " ('용하는', 'Adjective'),\n",
            " ('디즈니', 'Noun'),\n",
            " ('의', 'Josa'),\n",
            " ('또다른', 'Modifier'),\n",
            " ('걸작', 'Noun'),\n",
            " ('.\"', 'Punctuation'),\n",
            " ('픽사', 'Noun'),\n",
            " ('는', 'Josa'),\n",
            " ('디즈니', 'Noun'),\n",
            " ('...', 'Punctuation'),\n",
            " ('\\n', 'Foreign'),\n",
            " ('1', 'Number'),\n",
            " ('\\\\', 'Punctuation'),\n",
            " ('n', 'Alpha'),\n",
            " ('※', 'Foreign'),\n",
            " ('글', 'Noun'),\n",
            " ('작성', 'Noun'),\n",
            " ('관련', 'Noun'),\n",
            " ('하여', 'Verb'),\n",
            " ('스포', 'Noun'),\n",
            " ('가', 'Josa'),\n",
            " ('조금', 'Noun'),\n",
            " ('있으니', 'Adjective'),\n",
            " ('피하', 'Noun'),\n",
            " ('고자', 'Noun'),\n",
            " ('하시는', 'Verb'),\n",
            " ('분', 'Noun'),\n",
            " ('은', 'Josa'),\n",
            " ('뒤', 'Noun'),\n",
            " ('로', 'Josa'),\n",
            " ('가기', 'Noun'),\n",
            " ('를', 'Josa'),\n",
            " ('...--...', 'Punctuation'),\n",
            " ('\\n', 'Foreign'),\n",
            " ('2', 'Number'),\n",
            " ('\\\\', 'Punctuation'),\n",
            " ('n', 'Alpha'),\n",
            " ('\\u200b\\u200b', 'Foreign'),\n",
            " ('첫인상', 'Noun'),\n",
            " ('은', 'Josa'),\n",
            " ('솔직히', 'Adjective'),\n",
            " ('별로', 'Noun'),\n",
            " ('였다', 'Verb'),\n",
            " ('.', 'Punctuation'),\n",
            " ('행여', 'Noun'),\n",
            " ('나', 'Josa'),\n",
            " ('\\xa0', 'Foreign'),\n",
            " ('끝나는', 'Verb'),\n",
            " ('순간', 'Noun'),\n",
            " ('까지', 'Josa'),\n",
            " (\"'\", 'Punctuation'),\n",
            " ('노력', 'Noun'),\n",
            " ('으로', 'Josa'),\n",
            " ('환경', 'Noun'),\n",
            " ('을', 'Josa'),\n",
            " ('이겨내는', 'Verb'),\n",
            " ('...', 'Punctuation'),\n",
            " ('\\n', 'Foreign'),\n",
            " ('3', 'Number'),\n",
            " ('\\\\', 'Punctuation'),\n",
            " ('n', 'Alpha'),\n",
            " ('우선', 'Noun'),\n",
            " (',', 'Punctuation'),\n",
            " ('영화', 'Noun'),\n",
            " ('는', 'Josa'),\n",
            " ('영상', 'Noun'),\n",
            " ('과', 'Josa'),\n",
            " ('설정', 'Noun'),\n",
            " ('과', 'Josa'),\n",
            " ('케릭', 'Noun'),\n",
            " ('터', 'Noun'),\n",
            " ('만', 'Josa'),\n",
            " ('매력', 'Noun'),\n",
            " ('적', 'Suffix'),\n",
            " ('이고', 'Josa'),\n",
            " ('스토리', 'Noun'),\n",
            " ('는', 'Josa'),\n",
            " ('그닥', 'Noun'),\n",
            " ('...', 'Punctuation'),\n",
            " ('이라는', 'Josa'),\n",
            " ('생각', 'Noun'),\n",
            " ('...', 'Punctuation'),\n",
            " ('\\n', 'Foreign'),\n",
            " ('4', 'Number'),\n",
            " ('\\\\', 'Punctuation'),\n",
            " ('n', 'Alpha'),\n",
            " ('취미', 'Noun'),\n",
            " ('로', 'Josa'),\n",
            " ('글', 'Noun'),\n",
            " ('쓰는', 'Verb'),\n",
            " ('중', 'Noun'),\n",
            " ('입니다', 'Adjective'),\n",
            " ('~', 'Punctuation'),\n",
            " ('많이', 'Adverb'),\n",
            " ('미흡해도', 'Adjective'),\n",
            " ('이쁘게', 'Adjective'),\n",
            " ('봐주세요', 'Verb'),\n",
            " ('!!', 'Punctuation'),\n",
            " ('한', 'Verb'),\n",
            " ('사람', 'Noun'),\n",
            " ('의', 'Josa'),\n",
            " ('인생', 'Noun'),\n",
            " ('을', 'Josa'),\n",
            " ('멀', 'Adjective'),\n",
            " ('...', 'Punctuation'),\n",
            " ('\\n', 'Foreign'),\n",
            " ('5', 'Number'),\n",
            " ('\\\\', 'Punctuation'),\n",
            " ('n', 'Alpha'),\n",
            " ('\\\\', 'Punctuation'),\n",
            " ('n', 'Alpha'),\n",
            " ('당근', 'Noun'),\n",
            " ('농장', 'Noun'),\n",
            " ('이', 'Josa'),\n",
            " ('있는', 'Adjective'),\n",
            " ('촌', 'Noun'),\n",
            " ('에', 'Josa'),\n",
            " ('살', 'Noun'),\n",
            " ('고', 'Josa'),\n",
            " ('있던', 'Adjective'),\n",
            " ('토끼는', 'Verb'),\n",
            " ('세상', 'Noun'),\n",
            " ('을', 'Josa'),\n",
            " ('좋게', 'Adjective'),\n",
            " ('만들겠다는', 'Verb'),\n",
            " ('꿈', 'Noun'),\n",
            " ('을', 'Josa'),\n",
            " ('갖고', 'Verb'),\n",
            " ('이상', 'Noun'),\n",
            " ('...', 'Punctuation'),\n",
            " ('\\n', 'Foreign'),\n",
            " ('6', 'Number'),\n",
            " ('\\\\', 'Punctuation'),\n",
            " ('n', 'Alpha'),\n",
            " ('\\xa0', 'Foreign'),\n",
            " ('굿윈', 'Noun'),\n",
            " ('의', 'Josa'),\n",
            " ('영화', 'Noun'),\n",
            " ('주', 'Modifier'),\n",
            " ('토피아', 'Noun'),\n",
            " ('는', 'Josa'),\n",
            " (',', 'Punctuation'),\n",
            " ('정말', 'Noun'),\n",
            " ('잘', 'Verb'),\n",
            " ('만든', 'Verb'),\n",
            " ('애니메이션', 'Noun'),\n",
            " ('이다', 'Josa'),\n",
            " ('.', 'Punctuation'),\n",
            " ('지니퍼', 'Verb'),\n",
            " ('굿윈', 'Noun'),\n",
            " ('...', 'Punctuation'),\n",
            " ('\\n', 'Foreign'),\n",
            " ('7', 'Number'),\n",
            " ('\\\\', 'Punctuation'),\n",
            " ('n', 'Alpha'),\n",
            " ('\\\\', 'Punctuation'),\n",
            " ('n', 'Alpha'),\n",
            " ('\\\\', 'Punctuation'),\n",
            " ('n', 'Alpha'),\n",
            " ('\\\\', 'Punctuation'),\n",
            " ('n', 'Alpha'),\n",
            " ('\\\\', 'Punctuation'),\n",
            " ('n', 'Alpha'),\n",
            " ('주', 'Modifier'),\n",
            " ('토피아', 'Noun'),\n",
            " ('\\\\', 'Punctuation'),\n",
            " ('n', 'Alpha'),\n",
            " ('\\\\', 'Punctuation'),\n",
            " ('n', 'Alpha'),\n",
            " ('감독', 'Noun'),\n",
            " ('\\\\', 'Punctuation'),\n",
            " ('n', 'Alpha'),\n",
            " ('바이론', 'Noun'),\n",
            " ('하워드', 'Noun'),\n",
            " (',', 'Punctuation'),\n",
            " ('리치', 'Noun'),\n",
            " ('무어', 'Noun'),\n",
            " ('\\\\', 'Punctuation'),\n",
            " ('n', 'Alpha'),\n",
            " ('출연', 'Noun'),\n",
            " ('\\\\', 'Punctuation'),\n",
            " ('n', 'Alpha'),\n",
            " ('지니퍼', 'Verb'),\n",
            " ('...', 'Punctuation'),\n",
            " ('\\n', 'Foreign'),\n",
            " ('8', 'Number'),\n",
            " ('\\\\', 'Punctuation'),\n",
            " ('n', 'Alpha'),\n",
            " ('지니퍼', 'Verb'),\n",
            " ('굿윈', 'Noun'),\n",
            " ('(', 'Punctuation'),\n",
            " ('주디', 'Verb'),\n",
            " ('홉스', 'Noun'),\n",
            " ('),', 'Punctuation'),\n",
            " ('제이슨', 'Noun'),\n",
            " ('베이트', 'Noun'),\n",
            " ('먼', 'Adjective'),\n",
            " ('(', 'Punctuation'),\n",
            " ('닉', 'Noun'),\n",
            " ('와일드', 'Noun'),\n",
            " ('),', 'Punctuation'),\n",
            " ('샤키라', 'Noun'),\n",
            " ('(', 'Punctuation'),\n",
            " ('가젤', 'Noun'),\n",
            " ('),', 'Punctuation'),\n",
            " ('이드', 'Noun'),\n",
            " ('리', 'Noun'),\n",
            " ('...', 'Punctuation'),\n",
            " ('\\n', 'Foreign'),\n",
            " ('9', 'Number'),\n",
            " ('\\\\', 'Punctuation'),\n",
            " ('n', 'Alpha'),\n",
            " ('영화', 'Noun'),\n",
            " ('시사회', 'Noun'),\n",
            " ('에', 'Josa'),\n",
            " ('다녀왔다', 'Verb'),\n",
            " ('.', 'Punctuation'),\n",
            " ('뭔가', 'Noun'),\n",
            " ('검사', 'Noun'),\n",
            " ('외전', 'Noun'),\n",
            " ('의', 'Josa'),\n",
            " ('애니메이션', 'Noun'),\n",
            " ('버전', 'Noun'),\n",
            " ('일', 'Noun'),\n",
            " ('것', 'Noun'),\n",
            " ('같은', 'Adjective'),\n",
            " ('정의', 'Noun'),\n",
            " ('의', 'Josa'),\n",
            " ('편', 'Noun'),\n",
            " ('과', 'Josa'),\n",
            " ('사', 'Noun'),\n",
            " ('...', 'Punctuation'),\n",
            " ('\\n', 'Foreign'),\n",
            " ('Name', 'Alpha'),\n",
            " (':', 'Punctuation'),\n",
            " ('review', 'Alpha'),\n",
            " (',', 'Punctuation'),\n",
            " ('dtype', 'Alpha'),\n",
            " (':', 'Punctuation'),\n",
            " ('object', 'Alpha')]\n"
          ]
        }
      ]
    },
    {
      "cell_type": "code",
      "source": [
        "# 단어 ONLY 추출\n",
        "tokens = okt.morphs(sample_text)\n",
        "pprint(tokens)"
      ],
      "metadata": {
        "id": "beu0uFsVrMW7",
        "colab": {
          "base_uri": "https://localhost:8080/"
        },
        "outputId": "2ca132a1-b984-450f-efba-69aa1651901f"
      },
      "execution_count": null,
      "outputs": [
        {
          "output_type": "stream",
          "name": "stdout",
          "text": [
            "['0',\n",
            " '\\\\',\n",
            " 'n',\n",
            " '★★★★☆',\n",
            " '\"',\n",
            " '사회',\n",
            " '문제',\n",
            " '조차도',\n",
            " '따뜻하게',\n",
            " '포',\n",
            " '용하는',\n",
            " '디즈니',\n",
            " '의',\n",
            " '또다른',\n",
            " '걸작',\n",
            " '.\"',\n",
            " '픽사',\n",
            " '는',\n",
            " '디즈니',\n",
            " '...',\n",
            " '\\n',\n",
            " '1',\n",
            " '\\\\',\n",
            " 'n',\n",
            " '※',\n",
            " '글',\n",
            " '작성',\n",
            " '관련',\n",
            " '하여',\n",
            " '스포',\n",
            " '가',\n",
            " '조금',\n",
            " '있으니',\n",
            " '피하',\n",
            " '고자',\n",
            " '하시는',\n",
            " '분',\n",
            " '은',\n",
            " '뒤',\n",
            " '로',\n",
            " '가기',\n",
            " '를',\n",
            " '...--...',\n",
            " '\\n',\n",
            " '2',\n",
            " '\\\\',\n",
            " 'n',\n",
            " '\\u200b\\u200b',\n",
            " '첫인상',\n",
            " '은',\n",
            " '솔직히',\n",
            " '별로',\n",
            " '였다',\n",
            " '.',\n",
            " '행여',\n",
            " '나',\n",
            " '\\xa0',\n",
            " '끝나는',\n",
            " '순간',\n",
            " '까지',\n",
            " \"'\",\n",
            " '노력',\n",
            " '으로',\n",
            " '환경',\n",
            " '을',\n",
            " '이겨내는',\n",
            " '...',\n",
            " '\\n',\n",
            " '3',\n",
            " '\\\\',\n",
            " 'n',\n",
            " '우선',\n",
            " ',',\n",
            " '영화',\n",
            " '는',\n",
            " '영상',\n",
            " '과',\n",
            " '설정',\n",
            " '과',\n",
            " '케릭',\n",
            " '터',\n",
            " '만',\n",
            " '매력',\n",
            " '적',\n",
            " '이고',\n",
            " '스토리',\n",
            " '는',\n",
            " '그닥',\n",
            " '...',\n",
            " '이라는',\n",
            " '생각',\n",
            " '...',\n",
            " '\\n',\n",
            " '4',\n",
            " '\\\\',\n",
            " 'n',\n",
            " '취미',\n",
            " '로',\n",
            " '글',\n",
            " '쓰는',\n",
            " '중',\n",
            " '입니다',\n",
            " '~',\n",
            " '많이',\n",
            " '미흡해도',\n",
            " '이쁘게',\n",
            " '봐주세요',\n",
            " '!!',\n",
            " '한',\n",
            " '사람',\n",
            " '의',\n",
            " '인생',\n",
            " '을',\n",
            " '멀',\n",
            " '...',\n",
            " '\\n',\n",
            " '5',\n",
            " '\\\\',\n",
            " 'n',\n",
            " '\\\\',\n",
            " 'n',\n",
            " '당근',\n",
            " '농장',\n",
            " '이',\n",
            " '있는',\n",
            " '촌',\n",
            " '에',\n",
            " '살',\n",
            " '고',\n",
            " '있던',\n",
            " '토끼는',\n",
            " '세상',\n",
            " '을',\n",
            " '좋게',\n",
            " '만들겠다는',\n",
            " '꿈',\n",
            " '을',\n",
            " '갖고',\n",
            " '이상',\n",
            " '...',\n",
            " '\\n',\n",
            " '6',\n",
            " '\\\\',\n",
            " 'n',\n",
            " '\\xa0',\n",
            " '굿윈',\n",
            " '의',\n",
            " '영화',\n",
            " '주',\n",
            " '토피아',\n",
            " '는',\n",
            " ',',\n",
            " '정말',\n",
            " '잘',\n",
            " '만든',\n",
            " '애니메이션',\n",
            " '이다',\n",
            " '.',\n",
            " '지니퍼',\n",
            " '굿윈',\n",
            " '...',\n",
            " '\\n',\n",
            " '7',\n",
            " '\\\\',\n",
            " 'n',\n",
            " '\\\\',\n",
            " 'n',\n",
            " '\\\\',\n",
            " 'n',\n",
            " '\\\\',\n",
            " 'n',\n",
            " '\\\\',\n",
            " 'n',\n",
            " '주',\n",
            " '토피아',\n",
            " '\\\\',\n",
            " 'n',\n",
            " '\\\\',\n",
            " 'n',\n",
            " '감독',\n",
            " '\\\\',\n",
            " 'n',\n",
            " '바이론',\n",
            " '하워드',\n",
            " ',',\n",
            " '리치',\n",
            " '무어',\n",
            " '\\\\',\n",
            " 'n',\n",
            " '출연',\n",
            " '\\\\',\n",
            " 'n',\n",
            " '지니퍼',\n",
            " '...',\n",
            " '\\n',\n",
            " '8',\n",
            " '\\\\',\n",
            " 'n',\n",
            " '지니퍼',\n",
            " '굿윈',\n",
            " '(',\n",
            " '주디',\n",
            " '홉스',\n",
            " '),',\n",
            " '제이슨',\n",
            " '베이트',\n",
            " '먼',\n",
            " '(',\n",
            " '닉',\n",
            " '와일드',\n",
            " '),',\n",
            " '샤키라',\n",
            " '(',\n",
            " '가젤',\n",
            " '),',\n",
            " '이드',\n",
            " '리',\n",
            " '...',\n",
            " '\\n',\n",
            " '9',\n",
            " '\\\\',\n",
            " 'n',\n",
            " '영화',\n",
            " '시사회',\n",
            " '에',\n",
            " '다녀왔다',\n",
            " '.',\n",
            " '뭔가',\n",
            " '검사',\n",
            " '외전',\n",
            " '의',\n",
            " '애니메이션',\n",
            " '버전',\n",
            " '일',\n",
            " '것',\n",
            " '같은',\n",
            " '정의',\n",
            " '의',\n",
            " '편',\n",
            " '과',\n",
            " '사',\n",
            " '...',\n",
            " '\\n',\n",
            " 'Name',\n",
            " ':',\n",
            " 'review',\n",
            " ',',\n",
            " 'dtype',\n",
            " ':',\n",
            " 'object']\n"
          ]
        }
      ]
    },
    {
      "cell_type": "code",
      "source": [
        "# 명사 ONLY 추출\n",
        "tokens = okt.nouns(sample_text)\n",
        "pprint(tokens)"
      ],
      "metadata": {
        "id": "XbG029OhrQCJ",
        "colab": {
          "base_uri": "https://localhost:8080/"
        },
        "outputId": "703abcaa-b5e2-4727-d756-897d366ca609"
      },
      "execution_count": null,
      "outputs": [
        {
          "output_type": "stream",
          "name": "stdout",
          "text": [
            "['사회',\n",
            " '문제',\n",
            " '포',\n",
            " '디즈니',\n",
            " '걸작',\n",
            " '픽사',\n",
            " '디즈니',\n",
            " '글',\n",
            " '작성',\n",
            " '관련',\n",
            " '스포',\n",
            " '조금',\n",
            " '피하',\n",
            " '고자',\n",
            " '분',\n",
            " '뒤',\n",
            " '가기',\n",
            " '첫인상',\n",
            " '별로',\n",
            " '행여',\n",
            " '순간',\n",
            " '노력',\n",
            " '환경',\n",
            " '우선',\n",
            " '영화',\n",
            " '영상',\n",
            " '설정',\n",
            " '케릭',\n",
            " '터',\n",
            " '매력',\n",
            " '스토리',\n",
            " '그닥',\n",
            " '생각',\n",
            " '취미',\n",
            " '글',\n",
            " '중',\n",
            " '사람',\n",
            " '인생',\n",
            " '당근',\n",
            " '농장',\n",
            " '촌',\n",
            " '살',\n",
            " '세상',\n",
            " '꿈',\n",
            " '이상',\n",
            " '굿윈',\n",
            " '영화',\n",
            " '토피아',\n",
            " '정말',\n",
            " '애니메이션',\n",
            " '굿윈',\n",
            " '토피아',\n",
            " '감독',\n",
            " '바이론',\n",
            " '하워드',\n",
            " '리치',\n",
            " '무어',\n",
            " '출연',\n",
            " '굿윈',\n",
            " '홉스',\n",
            " '제이슨',\n",
            " '베이트',\n",
            " '닉',\n",
            " '와일드',\n",
            " '샤키라',\n",
            " '가젤',\n",
            " '이드',\n",
            " '리',\n",
            " '영화',\n",
            " '시사회',\n",
            " '뭔가',\n",
            " '검사',\n",
            " '외전',\n",
            " '애니메이션',\n",
            " '버전',\n",
            " '일',\n",
            " '것',\n",
            " '정의',\n",
            " '편',\n",
            " '사']\n"
          ]
        }
      ]
    },
    {
      "cell_type": "markdown",
      "source": [
        "## 3) 텍스트 전처리"
      ],
      "metadata": {
        "id": "YtqQNalrrTjq"
      }
    },
    {
      "cell_type": "code",
      "source": [
        "# 누락 데이터를 제거\n",
        "review_data = df['review'].dropna().values\n",
        "\n",
        "# 학습 속도를 고려하여, 1000개의 샘플을 선택하여 추출\n",
        "review_data = review_data[:1000]\n",
        "\n",
        "# 첫 번째 데이터\n",
        "print(review_data[0])"
      ],
      "metadata": {
        "id": "klxhXwdHrVeL",
        "colab": {
          "base_uri": "https://localhost:8080/"
        },
        "outputId": "1402385c-7f61-41ea-b5c7-306bf441a751"
      },
      "execution_count": null,
      "outputs": [
        {
          "output_type": "stream",
          "name": "stdout",
          "text": [
            "\n",
            "★★★★☆\"사회문제조차도 따뜻하게 포용하는 디즈니의 또다른 걸작.\"픽사는 디즈니를 닮아가고, 디즈니는 픽사를 닮아간다. 2010년대의 디즈니와 픽사의 관계를 한줄로 요약하자면 아마 이럴것이다. 이것은 단순히 픽사가 [메리다와 마법의 숲]같은 프린세스물을 만들었기에 하는 소리도 아니고, 디즈니가 [주먹왕 랄프]같이 전성기의 픽사처럼 통통튀는 상상력을 토대로한 작품을 만들었기 때문에 하는 소리도 아니다. 최근 픽사는 디즈니가 줄곧 그래왔던것처럼 '가족'이나 '감정' 같은 다소 개인적인 주제로 작품에 접근하고 있는 반면에 ([인사이드 아웃]이나 [굿 다이노]), 디즈니는 전성기 시절 픽사가 그랬던것 처럼 '정치적'인 주제로 작품에 접근하고 있다. '정치적'이라는 단어가 다소 생소하게 느껴질텐데, 디즈니가 펑크 록밴드처럼 '대통령 엿먹어!' '전쟁 반대!' 이런 구호를 외친다는것이 아니라 사회 시스템에 대해 관심을 가지기 시작했다는 의미이다. 이 뜻을 설명하기 위해서는 잠시 2000년대 중반으로 돌아가서 픽사의 전성기 시절을 되돌아 보아야 한다. 그때 당시 평론가들이 픽사 스튜디오에게 내린 주된 평은 이것이였다. '가장 정치적이면서 가장 정치적이지 않은 회사.' 여러분이 재밌게 보았던 [인크레더블]이나 [월E]같은 작품들을 떠올려보자. [인크레더블]은 '히어로 패밀리'라는 큰 주제를 가지고 있지만 은연중에 고객들을 등쳐먹고 있는 보험회사를 비판하기도 하고, [월E]에서는 대기업의 독점이 사회 시스템에 얼마나 악영향을 미치고 있는지를 보여주고 있다. 잘 생각해보면 픽사 작품에서 '숲'은 가족영화의 형태를 띄고 있지만 숲을 구성하고 있는 '나무'들은 사회를 바라보는 시니컬한 시선의 주제들로 구성되어있다. 픽사는 그런 영화를 만들던 회사였다. 그런데 픽사가 디즈니의 산하회사로 들어가게된 이후 픽사와 디즈니간의 교류가 잦아지면서 점차 둘을 구분하던 경계선이 흐릿해졌다. 이제는 픽사가 디즈니처럼 보이고, 디즈니가 픽사처럼 보이는 지경까지 이르게 된것이다. 하지만 놀랍게도 서로의 아이덴티티를 뒤바꾼 결과 그 시너지는 실로 엄청났다. 그 사실은 [인사이드 아웃]과 [주토피아]가 증명하고 있다.[주토피아]는 우선 그 동안 디즈니 영화에서 느꼈던 독특한 장점들이 통통튀는 작품이다. 매력적인 캐릭터를 만드는데 일가견이 된 디즈니는 이번에도 역시 사랑스러운 캐릭터를 통해 성공적인 스토리 텔링을 이끌어내고 있다. 마치 최대한 사랑스럽게 풀어낸 범죄 스릴러를 보는것 같다. 개인의 사건이 사실은 큰 흑막에 가려져 있었다는 전개는 그 동안 많이 봐왔었던 것이지만 [주토피아]에서는 그것이 식상해보인다던가 틀에 박혀있다는 인상을 받지 않았다. 우선 장르 특성상 어린 아이들을 타겟층으로 한 애니메이션에서 이러한 시도는 그동안 보지 못했던것이였고, 무엇보다 전체적인 소재와 배경 자체가 독특하기 때문이다. 동물을 의인화한 애니메이션은 많았지만 동물이 극도로 진화해서 현재 인간이 살고있는 사회처럼 살아가고 있고, 그와 동시에 동물이 진보된 사회를 이룩하긴 했지만 아직도 본능은 남아있다는 설정이 상당히 새롭게 다가왔다. 그렇기에 독특한 소재를 등에 업고 이끌어 나가는 이야기에는 확실히 개성이 있다. 또한 이러한 영화적 요소를 고려하지 않고 그저 캐릭터들이 어떻게 행동하고 어떻게 말하는지를 보는것 자체만으로도 즐겁다. 앞서 말했듯이 디즈니는 매력적인 캐릭터를 창조해내는데 일가견이 되었기 때문에, 그리고 귀여운 캐릭터들을 둘러싸고 있는 세계가 마치 살아 숨쉬는것 같기 때문에 그들이 창조한 '주토피아'라는 세계는 매력적이고 사랑스럽다.그런데 [주토피아]는 디즈니 특유의 장점을 잘 살린 작품이기도 하지만 아이러니 하게도 동시에 이전의 디즈니 영화들과는 다소 다른 양상을 띄고 있다. [주먹왕 랄프]가 '픽사' 스타일에 가까웠고 [겨울왕국]이 전형적인 '디즈니'의 스타일을 가지고 있다면 [주토피아]는 그 두개의 모습을 모두 갖춘듯한 스타일을 가지고 있다. 이 뜻은, [주토피아]의 귀엽고 발랄한 분위기의 세계 이면에는 무거운 주제의식이 자리잡고 있다는것이다. 태초에 동물들은 쫓기는 약자와 그들을 사냥하는 포식자로 나뉘어 있었다. 하지만 시간이 흘러 동물들도 진화했고, 서로 다른 동물들이 살아가는 '주토피아'는 포식자와 약자의 구분없이 평등하고 평화롭게 살아가자는 모토를 토대로 세워진 발전된 도시였다. 하지만 그럼에도 불구하고 '포식자'들에 대한 '약자'들의 공포는 아직까지도 남아있었다. 닉과 주디가 조사한 사건으로 인해 공포는 전 도시에 만연하게 되었고, 도시는 약자들과 포식자들로 나누어졌다. 그런데 옛날과는 달리 상황은 달라졌다. 다수인 '약자'들이 소수인 '포식자'들을 억압하기 시작한것이다. '포식자'들은 차별당했고, 억압받았다. 폭력의 양상이 뒤바뀐것이다. [주토피아]는 관객들로 하여금 한가지 질문을 던진다. '약자'가 '포식자'에 가하는 차별이 과연 정당화될수 있을까? 폭력의 역사는 인류가 걸어온 역사의 발자취를 따라왔고 그리고 지금의 사회에서도 버젓이 벌어지고 있는 이슈이다. 예전의 억압을 받던 이들이 다수가 되어서 힘을 행사하기도 하고, 예전에 차별을 일삼던이들이 이제는 소수가 되어서 차별을 받기도 한다. 하지만 이러한 다양한 형태의 폭력과 차별은 아무런 이익도 주지 않는다는것을 우리는 수많은 전쟁과 사회적 문제를 겪어오면서 깨달았다. [주토피아]의 결말이 그러하듯 폭력과 차별은 공포정치의 한 형태일뿐이다. 서로를 증오하고, 사회가 분열되는것의 결과는 현대사회가 추구하는 '평등과 평화'라는 목적과는 거리가 먼것이였다.[주토피아]에서 정말 높게 평가하고 싶은점은 이러한 무거운 메세지를 쉽고 편하게 풀어나간다는 것이다. '폭력과 차별'을 주제로 한 영화들은 많았지만, 남에게 추천해주기에는 부담스러운 경우가 대다수였다. 왜냐하면 극장을 나오고 나면 기분이 우울해지고 무겁게 다가오기 때문에, 주제에 대해서 편한 마음으로 대하기가 어려웠다. 하지만 [주토피아]는 디즈니의 밝은 면과 픽사의 어두운 면, 두가지를 수용해서 시너지를 내는 효과를 발휘했다. 그 결과 [주토피아]는 무거운 주제를 다루면서도 관객들에게 친절하고 따뜻한 모습으로 다가온다. 그렇기에 [주토피아]는 그 누구도 미워할수 없는 영화이다. 사회문제 조차도 따뜻하게 포용하는 디즈니이기에 [주토피아]를 또 하나의 걸작으로 보고싶은 이유이다.\n",
            "\n"
          ]
        }
      ]
    },
    {
      "cell_type": "code",
      "source": [
        "# 두 글자 이상의 명사를 사용 (한 글자 이하의 단어는 제거)\n",
        "cleaned_review_data = []\n",
        "\n",
        "for review in tqdm(review_data):\n",
        "    tokens = okt.nouns(review)\n",
        "    cleaned_tokens = []\n",
        "    for word in tokens:\n",
        "        if len(word) > 1:\n",
        "            cleaned_tokens.append(word)\n",
        "        else:\n",
        "            pass\n",
        "    cleaned_review = \" \".join(cleaned_tokens)\n",
        "    cleaned_review_data.append(cleaned_review)\n",
        "\n",
        "print(len(cleaned_review_data))\n",
        "print(cleaned_review_data[0])"
      ],
      "metadata": {
        "colab": {
          "base_uri": "https://localhost:8080/"
        },
        "id": "Cc14qfx0TKPy",
        "outputId": "97d2012d-cf65-4e59-a0f3-6dc4aea6e833"
      },
      "execution_count": null,
      "outputs": [
        {
          "output_type": "stream",
          "name": "stderr",
          "text": [
            "100%|██████████| 10/10 [00:02<00:00,  3.52it/s]"
          ]
        },
        {
          "output_type": "stream",
          "name": "stdout",
          "text": [
            "10\n",
            "사회 문제 디즈니 걸작 픽사 디즈니 디즈니 픽사 간다 디즈니 픽사 관계 요약 아마 픽사 메리다 마법 프린세스 소리 디즈니 주먹 랄프 전성기 픽사 통통 상상력 토대 작품 때문 소리 최근 픽사 디즈니 줄곧 가족 이나 감정 다소 개인 주제 작품 접근 반면 인사 이드 아웃 이나 다이노 디즈니 전성기 시절 픽사 처럼 정치 주제 작품 접근 정치 단어 다소 디즈니 펑크 밴드 대통령 엿먹어 전쟁 반대 구호 사회 시스템 대해 관심 시작 의미 설명 잠시 중반 픽사 전성기 시절 보아 그때 당시 평론가 픽사 스튜디오 가장 정치 면서 가장 정치 회사 여러분 인크레더블 이나 작품 인크레더블 히어로 패밀리 주제 가지 은연중 고객 보험 회사 비판 대기업 독점 사회 시스템 얼마나 영향 생각 픽사 작품 가족영화 형태 구성 나무 사회 시선 주제 구성 픽사 영화 회사 픽사 디즈니 회사 이후 픽사 디즈니 교류 점차 구분 경계 흐릿 이제 픽사 디즈니 보이 디즈니 픽사 지경 서로 아이덴티티 결과 시너지 실로 사실 인사 이드 아웃 토피아 증명 토피아 우선 동안 디즈니 영화 장점 통통 작품 매력 캐릭터 일가견 디즈니 이번 역시 캐릭터 통해 성공 스토리 텔링 마치 최대한 사랑 범죄 스릴러 개인 사건 사실 흑막 전개 동안 토피아 그것 인상 우선 장르 특성 아이 타겟 애니메이션 시도 그동안 보지 무엇 전체 소재 배경 자체 때문 동물 의인화 애니메이션 동물 극도 진화 현재 인간 사회 동시 동물 진보 사회 본능 설정 소재 이야기 개성 또한 영화 요소 고려 캐릭터 행동 자체 앞서 디즈니 매력 캐릭터 창조 일가견 때문 캐릭터 세계 마치 때문 창조 토피아 세계 매력 토피아 디즈니 특유 장점 작품 아이러니 동시 이전 디즈니 영화 다소 다른 양상 주먹 랄프 픽사 스타일 겨울왕국 전형 디즈니 스타일 가지 토피아 모습 모두 스타일 가지 토피아 분위기 세계 이면 의식 자리 잡고 태초 동물 약자 사냥 포식자 시간 동물 진화 서로 다른 동물 토피아 포식자 약자 구분 모토 토대 발전 도시 불구 포식자 대한 약자 공포 조사 사건 공포 도시 도시 약자 포식자 옛날 달리 상황 다수 약자 소수 포식자 억압 포식자 차별 폭력 양상 토피아 관객 한가지 질문 약자 포식자 차별 과연 정당화 폭력 역사 인류 역사 발자취 지금 사회 이슈 예전 억압 다수 행사 예전 차별 이제 소수 차별 형태 폭력 차별 이익 주지 우리 전쟁 사회 문제 토피아 결말 폭력 차별 공포정치 형태 서로 증오 사회 분열 결과 사회 추구 평등 평화 목적 거리 토피아 정말 평가 메세지 폭력 차별 주제 영화 추천 경우 극장 기분 때문 주제 대해 마음 대하 토피아 디즈니 픽사 두운 가지 수용 시너지 효과 발휘 결과 토피아 주제 관객 모습 토피아 누구 영화 사회 문제 디즈니 이기 토피아 하나 걸작 이유\n"
          ]
        },
        {
          "output_type": "stream",
          "name": "stderr",
          "text": [
            "\n"
          ]
        }
      ]
    },
    {
      "cell_type": "markdown",
      "source": [
        "## 4) TF-IDF 벡터로 표현"
      ],
      "metadata": {
        "id": "1YSNFGScszUG"
      }
    },
    {
      "cell_type": "code",
      "source": [
        "# 사이킷런 패키지 활용\n",
        "from sklearn.feature_extraction.text import TfidfVectorizer\n",
        "\n",
        "# TF-IDF 변환기 객체를 생성\n",
        "tfid = TfidfVectorizer()\n",
        "\n",
        "# TF-IDF 변환기에 데이터를 입력하여 변환\n",
        "review_tfid = tfid.fit_transform(cleaned_review_data)\n",
        "\n",
        "# 배열의 크기\n",
        "print(review_tfid.shape)\n",
        "\n",
        "# 첫 번째 데이터\n",
        "print(review_tfid[0])"
      ],
      "metadata": {
        "id": "tmDcacUus_c4",
        "colab": {
          "base_uri": "https://localhost:8080/"
        },
        "outputId": "0bcdba27-6022-4cc0-a49f-82ca91eccf15"
      },
      "execution_count": null,
      "outputs": [
        {
          "output_type": "stream",
          "name": "stdout",
          "text": [
            "(10, 985)\n",
            "  (0, 668)\t0.02222680493835707\n",
            "  (0, 926)\t0.017746694686413378\n",
            "  (0, 651)\t0.025405493748610525\n",
            "  (0, 160)\t0.025405493748610525\n",
            "  (0, 333)\t0.02988560400055422\n",
            "  (0, 975)\t0.02988560400055422\n",
            "  (0, 476)\t0.02988560400055422\n",
            "  (0, 223)\t0.025405493748610525\n",
            "  (0, 200)\t0.02988560400055422\n",
            "  (0, 260)\t0.02988560400055422\n",
            "  (0, 127)\t0.025405493748610525\n",
            "  (0, 118)\t0.02988560400055422\n",
            "  (0, 51)\t0.02988560400055422\n",
            "  (0, 843)\t0.02222680493835707\n",
            "  (0, 283)\t0.02988560400055422\n",
            "  (0, 904)\t0.02988560400055422\n",
            "  (0, 745)\t0.017746694686413378\n",
            "  (0, 33)\t0.02988560400055422\n",
            "  (0, 297)\t0.025405493748610525\n",
            "  (0, 909)\t0.025405493748610525\n",
            "  (0, 905)\t0.02988560400055422\n",
            "  (0, 840)\t0.025405493748610525\n",
            "  (0, 384)\t0.02988560400055422\n",
            "  (0, 789)\t0.02988560400055422\n",
            "  (0, 77)\t0.02988560400055422\n",
            "  :\t:\n",
            "  (0, 652)\t0.08965681200166266\n",
            "  (0, 7)\t0.025405493748610525\n",
            "  (0, 784)\t0.02988560400055422\n",
            "  (0, 836)\t0.02988560400055422\n",
            "  (0, 236)\t0.08873347343206689\n",
            "  (0, 712)\t0.15558763456849947\n",
            "  (0, 883)\t0.05977120800110844\n",
            "  (0, 429)\t0.02988560400055422\n",
            "  (0, 889)\t0.05977120800110844\n",
            "  (0, 728)\t0.08965681200166266\n",
            "  (0, 246)\t0.05081098749722105\n",
            "  (0, 774)\t0.05081098749722105\n",
            "  (0, 465)\t0.05081098749722105\n",
            "  (0, 920)\t0.02988560400055422\n",
            "  (0, 257)\t0.02988560400055422\n",
            "  (0, 282)\t0.02988560400055422\n",
            "  (0, 533)\t0.02988560400055422\n",
            "  (0, 606)\t0.02988560400055422\n",
            "  (0, 83)\t0.025405493748610525\n",
            "  (0, 12)\t0.02222680493835707\n",
            "  (0, 923)\t0.5080552680094217\n",
            "  (0, 37)\t0.05977120800110844\n",
            "  (0, 232)\t0.3952244469427764\n",
            "  (0, 309)\t0.05928366704141647\n",
            "  (0, 423)\t0.19521364155054716\n"
          ]
        }
      ]
    },
    {
      "cell_type": "code",
      "source": [
        "# 단어 사전 확인 (딕셔너리 형태)\n",
        "vocab = tfid.vocabulary_\n",
        "\n",
        "# 단어 사전의 크기\n",
        "print(len(vocab))\n",
        "\n",
        "# 단어 사전 출력 (앞에서 5개의 단어만 출력)\n",
        "print({ k:v for i, (k, v) in enumerate(vocab.items()) if i < 5 })"
      ],
      "metadata": {
        "id": "cRznskKgtCt4",
        "colab": {
          "base_uri": "https://localhost:8080/"
        },
        "outputId": "f3c34432-0ae6-4f09-b695-44af147ee492"
      },
      "execution_count": null,
      "outputs": [
        {
          "output_type": "stream",
          "name": "stdout",
          "text": [
            "985\n",
            "{'사회': 423, '문제': 309, '디즈니': 232, '걸작': 37, '픽사': 923}\n"
          ]
        }
      ]
    },
    {
      "cell_type": "code",
      "source": [
        "# 단어들의 사전 인덱스를 이용하여 원래 단어를 검색하는 매핑 딕셔너리\n",
        "index_to_word = { v:k for k, v in vocab.items() }\n",
        "\n",
        "# 앞에서 5개의 단어를 출력\n",
        "print({  k:v for i, (k, v) in enumerate(index_to_word.items()) if i < 5 })"
      ],
      "metadata": {
        "id": "1zm5cGaxtRL8",
        "colab": {
          "base_uri": "https://localhost:8080/"
        },
        "outputId": "0b202934-282b-4a11-d3c8-f637c6492c9e"
      },
      "execution_count": null,
      "outputs": [
        {
          "output_type": "stream",
          "name": "stdout",
          "text": [
            "{423: '사회', 309: '문제', 232: '디즈니', 37: '걸작', 923: '픽사'}\n"
          ]
        }
      ]
    },
    {
      "cell_type": "code",
      "source": [
        "# 첫 번째 리뷰를 구성하는 단어들의 사전 인덱스를 이용하여 원래 단어를 복원 (순서 복원 X)\n",
        "original_text = \" \".join([index_to_word[word_idx] for word_idx in review_tfid[0].indices])\n",
        "original_text"
      ],
      "metadata": {
        "id": "jHrchDcctUNH",
        "colab": {
          "base_uri": "https://localhost:8080/",
          "height": 181
        },
        "outputId": "04190f63-3628-476e-eab1-64dbac2912e2"
      },
      "execution_count": null,
      "outputs": [
        {
          "output_type": "execute_result",
          "data": {
            "text/plain": [
              "'이유 하나 이기 누구 발휘 효과 수용 두운 대하 마음 기분 극장 경우 추천 메세지 평가 정말 거리 목적 평화 평등 추구 분열 증오 공포정치 결말 우리 주지 이익 행사 예전 이슈 지금 발자취 인류 역사 정당화 과연 질문 한가지 관객 폭력 차별 억압 소수 다수 상황 달리 옛날 조사 공포 대한 불구 도시 발전 모토 시간 포식자 사냥 약자 태초 잡고 자리 의식 이면 분위기 모두 모습 전형 겨울왕국 스타일 양상 다른 이전 아이러니 특유 세계 창조 앞서 행동 고려 요소 또한 개성 이야기 설정 본능 진보 동시 인간 현재 진화 극도 의인화 동물 자체 배경 소재 전체 무엇 보지 그동안 시도 애니메이션 타겟 아이 특성 장르 인상 그것 전개 흑막 사건 스릴러 범죄 사랑 최대한 마치 텔링 스토리 성공 통해 역시 이번 일가견 캐릭터 매력 장점 동안 우선 증명 토피아 사실 실로 시너지 결과 아이덴티티 서로 지경 보이 이제 흐릿 경계 구분 점차 교류 이후 영화 시선 나무 구성 형태 가족영화 생각 영향 얼마나 독점 대기업 비판 보험 고객 은연중 가지 패밀리 히어로 인크레더블 여러분 회사 면서 가장 스튜디오 평론가 당시 그때 보아 중반 잠시 설명 의미 시작 관심 대해 시스템 구호 반대 전쟁 엿먹어 대통령 밴드 펑크 단어 정치 처럼 시절 다이노 아웃 이드 인사 반면 접근 주제 개인 다소 감정 이나 가족 줄곧 최근 때문 작품 토대 상상력 통통 전성기 랄프 주먹 소리 프린세스 마법 메리다 아마 요약 관계 간다 픽사 걸작 디즈니 문제 사회'"
            ],
            "application/vnd.google.colaboratory.intrinsic+json": {
              "type": "string"
            }
          },
          "metadata": {},
          "execution_count": 43
        }
      ]
    },
    {
      "cell_type": "markdown",
      "source": [
        "# Topic Modeling\n"
      ],
      "metadata": {
        "id": "14iSTH4ztg4N"
      }
    },
    {
      "cell_type": "markdown",
      "source": [
        "## 1) LDA (LatentDirichletAllocation)"
      ],
      "metadata": {
        "id": "ksdjwPGCylPV"
      }
    },
    {
      "cell_type": "code",
      "source": [
        "# 사이킷런 패키지 활용\n",
        "from sklearn.decomposition import LatentDirichletAllocation\n",
        "\n",
        "# LDA 모델링 객체를 생성 (토픽 갯수를 2로 설정: 긍정/부정)\n",
        "lda = LatentDirichletAllocation(n_components=2)\n",
        "\n",
        "# TF-IDF 벡터를 입력하여 모델 학습\n",
        "lda.fit(review_tfid)"
      ],
      "metadata": {
        "id": "Gkf3HUBqvXP-",
        "colab": {
          "base_uri": "https://localhost:8080/"
        },
        "outputId": "9727abcd-8c23-477c-c278-ea69541f129e"
      },
      "execution_count": null,
      "outputs": [
        {
          "output_type": "execute_result",
          "data": {
            "text/plain": [
              "LatentDirichletAllocation(n_components=2)"
            ]
          },
          "metadata": {},
          "execution_count": 44
        }
      ]
    },
    {
      "cell_type": "code",
      "source": [
        "# 토픽 모델링 결과를 담고 있는 배열의 형태 : (2개의 토픽, 2157개의 단어)\n",
        "print(lda.components_.shape)"
      ],
      "metadata": {
        "id": "_oPjeCINvSX7",
        "colab": {
          "base_uri": "https://localhost:8080/"
        },
        "outputId": "247adbd7-e2ed-4357-85b9-385c4fabe313"
      },
      "execution_count": null,
      "outputs": [
        {
          "output_type": "stream",
          "name": "stdout",
          "text": [
            "(2, 985)\n"
          ]
        }
      ]
    },
    {
      "cell_type": "code",
      "source": [
        "# 2157개의 단어 중에서, 토픽 별로 가장 중요도가 높은 단어를 10개씩 출력\n",
        "\n",
        "for idx, topic in enumerate(lda.components_):\n",
        "    print(f\"토픽 유형 {idx+1}:\", [(index_to_word[i], topic[i].round(3)) for i in topic.argsort()[:-11:-1]])"
      ],
      "metadata": {
        "id": "P8IyTV1lve4c",
        "colab": {
          "base_uri": "https://localhost:8080/"
        },
        "outputId": "e55f42bb-7f29-4d83-d91f-65d6f70d8538"
      },
      "execution_count": null,
      "outputs": [
        {
          "output_type": "stream",
          "name": "stdout",
          "text": [
            "토픽 유형 1: [('토피아', 1.37), ('영화', 1.259), ('홉스', 1.066), ('경찰', 1.018), ('사건', 0.946), ('동물', 0.932), ('캐릭터', 0.875), ('실종', 0.865), ('재미', 0.844), ('시사회', 0.838)]\n",
            "토픽 유형 2: [('세상', 1.212), ('영화', 1.09), ('그녀', 1.033), ('생각', 1.015), ('동물', 1.014), ('픽사', 1.003), ('우리', 0.979), ('차별', 0.978), ('경찰', 0.978), ('토피아', 0.975)]\n"
          ]
        }
      ]
    },
    {
      "cell_type": "markdown",
      "source": [
        "## 2) pyLDAvis 시각화"
      ],
      "metadata": {
        "id": "Nuwit3SMwNUh"
      }
    },
    {
      "cell_type": "code",
      "source": [
        "# pyLDAvis 설치\n",
        "!pip install pyLDAvis"
      ],
      "metadata": {
        "id": "XkMPSCh7v_Pc",
        "colab": {
          "base_uri": "https://localhost:8080/"
        },
        "outputId": "174d77b0-4cc2-4aac-9f60-b5b844574a49"
      },
      "execution_count": null,
      "outputs": [
        {
          "output_type": "stream",
          "name": "stdout",
          "text": [
            "Looking in indexes: https://pypi.org/simple, https://us-python.pkg.dev/colab-wheels/public/simple/\n",
            "Requirement already satisfied: pyLDAvis in /usr/local/lib/python3.8/dist-packages (3.3.1)\n",
            "Requirement already satisfied: sklearn in /usr/local/lib/python3.8/dist-packages (from pyLDAvis) (0.0.post1)\n",
            "Requirement already satisfied: funcy in /usr/local/lib/python3.8/dist-packages (from pyLDAvis) (1.18)\n",
            "Requirement already satisfied: jinja2 in /usr/local/lib/python3.8/dist-packages (from pyLDAvis) (2.11.3)\n",
            "Requirement already satisfied: gensim in /usr/local/lib/python3.8/dist-packages (from pyLDAvis) (3.6.0)\n",
            "Requirement already satisfied: pandas>=1.2.0 in /usr/local/lib/python3.8/dist-packages (from pyLDAvis) (1.3.5)\n",
            "Requirement already satisfied: numexpr in /usr/local/lib/python3.8/dist-packages (from pyLDAvis) (2.8.4)\n",
            "Requirement already satisfied: future in /usr/local/lib/python3.8/dist-packages (from pyLDAvis) (0.16.0)\n",
            "Requirement already satisfied: setuptools in /usr/local/lib/python3.8/dist-packages (from pyLDAvis) (57.4.0)\n",
            "Requirement already satisfied: joblib in /usr/local/lib/python3.8/dist-packages (from pyLDAvis) (1.2.0)\n",
            "Requirement already satisfied: numpy>=1.20.0 in /usr/local/lib/python3.8/dist-packages (from pyLDAvis) (1.21.6)\n",
            "Requirement already satisfied: scipy in /usr/local/lib/python3.8/dist-packages (from pyLDAvis) (1.7.3)\n",
            "Requirement already satisfied: scikit-learn in /usr/local/lib/python3.8/dist-packages (from pyLDAvis) (1.0.2)\n",
            "Requirement already satisfied: pytz>=2017.3 in /usr/local/lib/python3.8/dist-packages (from pandas>=1.2.0->pyLDAvis) (2022.7.1)\n",
            "Requirement already satisfied: python-dateutil>=2.7.3 in /usr/local/lib/python3.8/dist-packages (from pandas>=1.2.0->pyLDAvis) (2.8.2)\n",
            "Requirement already satisfied: smart-open>=1.2.1 in /usr/local/lib/python3.8/dist-packages (from gensim->pyLDAvis) (6.3.0)\n",
            "Requirement already satisfied: six>=1.5.0 in /usr/local/lib/python3.8/dist-packages (from gensim->pyLDAvis) (1.15.0)\n",
            "Requirement already satisfied: MarkupSafe>=0.23 in /usr/local/lib/python3.8/dist-packages (from jinja2->pyLDAvis) (2.0.1)\n",
            "Requirement already satisfied: threadpoolctl>=2.0.0 in /usr/local/lib/python3.8/dist-packages (from scikit-learn->pyLDAvis) (3.1.0)\n"
          ]
        }
      ]
    },
    {
      "cell_type": "code",
      "source": [
        "# LDA 토픽 모델링 결과를 시각화\n",
        "import pyLDAvis.sklearn\n",
        "pyLDAvis.enable_notebook()\n",
        "visualization = pyLDAvis.sklearn.prepare(lda, review_tfid, tfid)\n",
        "pyLDAvis.display(visualization)"
      ],
      "metadata": {
        "id": "995kBp5TwGAB",
        "colab": {
          "base_uri": "https://localhost:8080/",
          "height": 880
        },
        "outputId": "e2e20f71-8c32-41c0-94dd-17ff479cd8c2"
      },
      "execution_count": null,
      "outputs": [
        {
          "output_type": "execute_result",
          "data": {
            "text/plain": [
              "<IPython.core.display.HTML object>"
            ],
            "text/html": [
              "\n",
              "<link rel=\"stylesheet\" type=\"text/css\" href=\"https://cdn.jsdelivr.net/gh/bmabey/pyLDAvis@3.3.1/pyLDAvis/js/ldavis.v1.0.0.css\">\n",
              "\n",
              "\n",
              "<div id=\"ldavis_el84851396899833710721786076413\"></div>\n",
              "<script type=\"text/javascript\">\n",
              "\n",
              "var ldavis_el84851396899833710721786076413_data = {\"mdsDat\": {\"x\": [0.0017104322875648326, -0.0017104322875648326], \"y\": [0.0, 0.0], \"topics\": [1, 2], \"cluster\": [1, 1], \"Freq\": [54.063711578008025, 45.936288421991975]}, \"tinfo\": {\"Term\": [\"\\ud649\\uc2a4\", \"\\uc2e4\\uc885\", \"\\ud1a0\\ud53c\\uc544\", \"\\uc601\\uc5b4\", \"\\uc0ac\\uac74\", \"\\uc138\\uc0c1\", \"\\ud64d\\uae38\\ub3d9\", \"\\ud0d0\\uc815\", \"\\uc2dc\\uc0ac\\ud68c\", \"\\uc7ac\\ubbf8\", \"\\uacf5\\uc874\", \"\\ud578\\ub4dc\\ud3f0\", \"\\uadf8\\ub140\", \"\\uce90\\ub9ad\\ud130\", \"\\ud574\\uacb0\", \"\\ub124\\uc774\\ubc84\", \"\\ud53d\\uc0ac\", \"\\ub0b4\\uc6a9\", \"\\uc8fc\\ucc28\", \"\\ub3c4\\uc2dc\", \"\\ub9c8\\uc744\", \"\\uae30\\ubd84\", \"\\ubd88\\ubc95\", \"\\uc871\\uc81c\\ube44\", \"\\ubc1c\\uae09\", \"\\uad7f\\uc708\", \"\\uac10\\ub3d9\", \"\\uc640\\uc77c\\ub4dc\", \"\\uc721\\uc2dd\\ub3d9\\ubb3c\", \"\\ub0b4\\ub0b4\", \"\\uc138\\uc0c1\", \"\\uadf8\\ub140\", \"\\ud53d\\uc0ac\", \"\\uc721\\uc2dd\\ub3d9\\ubb3c\", \"\\ucc28\\ubcc4\", \"\\uc720\\ud1a0\\ud53c\\uc544\", \"\\uc0dd\\uac01\", \"\\uc0ac\\ud68c\", \"\\uc124\\uc815\", \"\\uc9c4\\ud654\", \"\\uc790\\uae30\", \"\\ucd08\\uc2dd\\ub3d9\\ubb3c\", \"\\uac00\\uc9c0\", \"\\uc6b0\\ub9ac\", \"\\uc8fc\\uc81c\", \"\\uc120\\ucc9c\", \"\\ud3b8\\uacac\", \"\\ub9cc\\ud07c\", \"\\ud3ec\\uc2dd\\uc790\", \"\\ubaa8\\uc2b5\", \"\\ubaa8\\ub4e0\", \"\\ud3ec\\uc2a4\\ud2b8\\ubaa8\\ub358\", \"\\ub4dc\\ub77c\\ub9c8\", \"\\ube14\\ub8e8\\ubca0\\ub9ac\", \"\\ucc28\\ub77c\\ub9ac\", \"\\ud074\\ub9ac\\uc170\", \"\\uc2a4\\ud1a0\\ub9ac\", \"\\uc778\\uac04\", \"\\uc774\\uc81c\", \"\\uc138\\uacc4\", \"\\uc774\\ud574\", \"\\uc791\\ud488\", \"\\ub3d9\\ubb3c\", \"\\ub514\\uc988\\ub2c8\", \"\\uacbd\\ucc30\", \"\\uc601\\ud654\", \"\\uc790\\uc2e0\", \"\\ud1a0\\ud53c\\uc544\", \"\\uc774\\uc57c\\uae30\", \"\\uc0ac\\ub78c\", \"\\ud649\\uc2a4\", \"\\uc2e4\\uc885\", \"\\uc601\\uc5b4\", \"\\ud64d\\uae38\\ub3d9\", \"\\ud0d0\\uc815\", \"\\uc0ac\\uac74\", \"\\uacf5\\uc874\", \"\\ud578\\ub4dc\\ud3f0\", \"\\uc2dc\\uc0ac\\ud68c\", \"\\uc7ac\\ubbf8\", \"\\ud574\\uacb0\", \"\\ub124\\uc774\\ubc84\", \"\\uc8fc\\ucc28\", \"\\ub9c8\\uc744\", \"\\ub0b4\\uc6a9\", \"\\ubd88\\ubc95\", \"\\uc871\\uc81c\\ube44\", \"\\ubc1c\\uae09\", \"\\uae30\\ubd84\", \"\\ub3c4\\uc2dc\", \"\\uad7f\\uc708\", \"\\uac10\\ub3d9\", \"\\ud1a0\\ud53c\\uc544\", \"\\uce90\\ub9ad\\ud130\", \"\\ub0b4\\ub0b4\", \"\\uc5ed\\ud560\", \"\\uc640\\uc77c\\ub4dc\", \"\\uc9c0\\ub3c4\", \"\\uc5f0\\uc1c4\", \"\\uc2a4\\ub9b4\", \"\\uc560\\ub2c8\\uba54\\uc774\\uc158\", \"\\uc601\\ud654\", \"\\ud1a0\\ub07c\", \"\\uacbd\\ucc30\", \"\\uac1c\\ubd09\", \"\\ub3d9\\ubb3c\", \"\\ubaa8\\ub450\", \"\\ub514\\uc988\\ub2c8\", \"\\uc5ec\\uc6b0\", \"\\uc774\\uc0c1\"], \"Freq\": [0.0, 0.0, 0.0, 0.0, 0.0, 0.0, 0.0, 0.0, 0.0, 0.0, 0.0, 0.0, 0.0, 0.0, 0.0, 0.0, 0.0, 0.0, 0.0, 0.0, 0.0, 0.0, 0.0, 0.0, 0.0, 0.0, 0.0, 0.0, 0.0, 0.0, 0.11654534114513612, 0.0993627573072708, 0.09642682639224132, 0.09196237907206198, 0.09409766962086676, 0.08807554850857371, 0.09761977807931034, 0.08659935659426772, 0.07413880204861051, 0.07256121438319944, 0.0718035729056355, 0.07157854942376016, 0.07111618956647801, 0.09417713469046797, 0.06966985191117644, 0.06909250268936891, 0.08991151769390797, 0.06843875112790936, 0.0678077128773202, 0.08128460861736841, 0.07132893777216921, 0.06630832558649352, 0.0657771967971795, 0.0657771967971795, 0.0657771967971795, 0.0657771967971795, 0.06551503769284972, 0.06973244301200035, 0.06525502795734323, 0.07357904540948444, 0.07656259142850351, 0.07053439245947249, 0.09752106547089383, 0.08607801254358628, 0.09406276950752847, 0.1048675310949015, 0.07192969429509885, 0.09377876481107797, 0.07191926741425574, 0.07291603443396735, 0.08841258714290866, 0.07170108062104, 0.06878056508998412, 0.06478200279529428, 0.06478200279529411, 0.07849354161244146, 0.06376796473365869, 0.06300656941723869, 0.06949465576452014, 0.07000380835061763, 0.061640340348847036, 0.06155653260668486, 0.06067204847807508, 0.060079765103457784, 0.06328799139893714, 0.05959339997564165, 0.05959339997564157, 0.059593399975641434, 0.06188633017746033, 0.06550008980732544, 0.06163635319404018, 0.05875691545705163, 0.1136209106936459, 0.07258894064627675, 0.0572627918215672, 0.0572627918215672, 0.06451997480919372, 0.056771916391446194, 0.05659893247686344, 0.05659893247686344, 0.06607364748096284, 0.10440949412154157, 0.06603208322474924, 0.08440220147423441, 0.058519095134328694, 0.07732595790814388, 0.06112118322147493, 0.06448228019381325, 0.0599831320217064, 0.05959856689322761], \"Total\": [0.0, 0.0, 0.0, 0.0, 0.0, 0.0, 0.0, 0.0, 0.0, 0.0, 0.0, 0.0, 0.0, 0.0, 0.0, 0.0, 0.0, 0.0, 0.0, 0.0, 0.0, 0.0, 0.0, 0.0, 0.0, 0.0, 0.0, 0.0, 0.0, 0.0, 0.163732384356064, 0.14135033210056036, 0.1383487588844855, 0.1337990470806843, 0.14097231476939237, 0.1330380389654229, 0.1485390203134, 0.13374887822003514, 0.11594565558117614, 0.11435372327233245, 0.11355992741220494, 0.11343116524021582, 0.11296426112050965, 0.14990744054061106, 0.11149474849832708, 0.11084312604063887, 0.14471805148244474, 0.11028400972497587, 0.10962153400589975, 0.13173929169271495, 0.11564290696685875, 0.1080323388704216, 0.1074962652677986, 0.1074962652677986, 0.1074962652677986, 0.1074962652677986, 0.10724293174379898, 0.1143296806320298, 0.10699292980846481, 0.12075762073870036, 0.12745914901776137, 0.11725970638559047, 0.1748470233790377, 0.15056029273739951, 0.1784649709817629, 0.2092770252164431, 0.12326448335202564, 0.20739967550472388, 0.12330466351887756, 0.12797098211627028, 0.13994223180008392, 0.12021546631694578, 0.11734932986891689, 0.11324845425618305, 0.11324845425618307, 0.13736073774740115, 0.11226261342220362, 0.11146707263996702, 0.123222312993264, 0.12449325812340661, 0.1101085983020291, 0.1099947802951798, 0.10917825933293784, 0.10851619349563828, 0.11438424024070228, 0.1080980261304606, 0.10809802613046061, 0.10809802613046063, 0.11263752259634535, 0.11935285748150931, 0.11242923568435619, 0.10718949188833507, 0.20739967550472388, 0.1326520235363707, 0.1056835766580165, 0.1056835766580165, 0.11939726764484543, 0.10517440539277838, 0.10500688694188835, 0.10500688694188837, 0.12446304226781127, 0.2092770252164431, 0.126446763504705, 0.1784649709817629, 0.10930140733024003, 0.1748470233790377, 0.1232791691284875, 0.15056029273739951, 0.12101194859219937, 0.12192064722062994], \"Category\": [\"Default\", \"Default\", \"Default\", \"Default\", \"Default\", \"Default\", \"Default\", \"Default\", \"Default\", \"Default\", \"Default\", \"Default\", \"Default\", \"Default\", \"Default\", \"Default\", \"Default\", \"Default\", \"Default\", \"Default\", \"Default\", \"Default\", \"Default\", \"Default\", \"Default\", \"Default\", \"Default\", \"Default\", \"Default\", \"Default\", \"Topic1\", \"Topic1\", \"Topic1\", \"Topic1\", \"Topic1\", \"Topic1\", \"Topic1\", \"Topic1\", \"Topic1\", \"Topic1\", \"Topic1\", \"Topic1\", \"Topic1\", \"Topic1\", \"Topic1\", \"Topic1\", \"Topic1\", \"Topic1\", \"Topic1\", \"Topic1\", \"Topic1\", \"Topic1\", \"Topic1\", \"Topic1\", \"Topic1\", \"Topic1\", \"Topic1\", \"Topic1\", \"Topic1\", \"Topic1\", \"Topic1\", \"Topic1\", \"Topic1\", \"Topic1\", \"Topic1\", \"Topic1\", \"Topic1\", \"Topic1\", \"Topic1\", \"Topic1\", \"Topic2\", \"Topic2\", \"Topic2\", \"Topic2\", \"Topic2\", \"Topic2\", \"Topic2\", \"Topic2\", \"Topic2\", \"Topic2\", \"Topic2\", \"Topic2\", \"Topic2\", \"Topic2\", \"Topic2\", \"Topic2\", \"Topic2\", \"Topic2\", \"Topic2\", \"Topic2\", \"Topic2\", \"Topic2\", \"Topic2\", \"Topic2\", \"Topic2\", \"Topic2\", \"Topic2\", \"Topic2\", \"Topic2\", \"Topic2\", \"Topic2\", \"Topic2\", \"Topic2\", \"Topic2\", \"Topic2\", \"Topic2\", \"Topic2\", \"Topic2\", \"Topic2\", \"Topic2\"], \"logprob\": [30.0, 29.0, 28.0, 27.0, 26.0, 25.0, 24.0, 23.0, 22.0, 21.0, 20.0, 19.0, 18.0, 17.0, 16.0, 15.0, 14.0, 13.0, 12.0, 11.0, 10.0, 9.0, 8.0, 7.0, 6.0, 5.0, 4.0, 3.0, 2.0, 1.0, -6.1086, -6.2681, -6.2981, -6.3455, -6.3226, -6.3887, -6.2858, -6.4056, -6.561, -6.5825, -6.593, -6.5961, -6.6026, -6.3217, -6.6232, -6.6315, -6.3681, -6.641, -6.6502, -6.469, -6.5996, -6.6726, -6.6806, -6.6806, -6.6806, -6.6806, -6.6846, -6.6223, -6.6886, -6.5686, -6.5288, -6.6108, -6.2869, -6.4117, -6.323, -6.2142, -6.5912, -6.326, -6.5914, -6.5776, -6.222, -6.4315, -6.4731, -6.533, -6.533, -6.341, -6.5488, -6.5608, -6.4628, -6.4555, -6.5827, -6.5841, -6.5985, -6.6083, -6.5563, -6.6165, -6.6165, -6.6165, -6.5787, -6.522, -6.5828, -6.6306, -5.9711, -6.4192, -6.6564, -6.6564, -6.537, -6.665, -6.668, -6.668, -6.5132, -6.0557, -6.5139, -6.2684, -6.6347, -6.356, -6.5912, -6.5376, -6.6099, -6.6164], \"loglift\": [30.0, 29.0, 28.0, 27.0, 26.0, 25.0, 24.0, 23.0, 22.0, 21.0, 20.0, 19.0, 18.0, 17.0, 16.0, 15.0, 14.0, 13.0, 12.0, 11.0, 10.0, 9.0, 8.0, 7.0, 6.0, 5.0, 4.0, 3.0, 2.0, 1.0, 0.2751, 0.2625, 0.254, 0.24, 0.2108, 0.2026, 0.1952, 0.1803, 0.1678, 0.1601, 0.1566, 0.1546, 0.1523, 0.1502, 0.1448, 0.1423, 0.139, 0.1379, 0.1346, 0.1321, 0.1318, 0.1269, 0.1238, 0.1238, 0.1238, 0.1238, 0.1222, 0.1206, 0.1205, 0.1196, 0.1053, 0.1067, 0.0312, 0.0559, -0.0254, -0.076, 0.0764, -0.1787, 0.0759, 0.0525, 0.3187, 0.2611, 0.2437, 0.2194, 0.2194, 0.2183, 0.2123, 0.2074, 0.2052, 0.2022, 0.1978, 0.1974, 0.1904, 0.1867, 0.186, 0.1824, 0.1824, 0.1824, 0.179, 0.1779, 0.1768, 0.1767, 0.1761, 0.175, 0.1651, 0.1651, 0.1624, 0.1613, 0.1599, 0.1599, 0.1447, 0.0826, 0.1282, 0.0291, 0.1532, -0.038, 0.0763, -0.0701, 0.0761, 0.0622]}, \"token.table\": {\"Topic\": [], \"Freq\": [], \"Term\": []}, \"R\": 30, \"lambda.step\": 0.01, \"plot.opts\": {\"xlab\": \"PC1\", \"ylab\": \"PC2\"}, \"topic.order\": [2, 1]};\n",
              "\n",
              "function LDAvis_load_lib(url, callback){\n",
              "  var s = document.createElement('script');\n",
              "  s.src = url;\n",
              "  s.async = true;\n",
              "  s.onreadystatechange = s.onload = callback;\n",
              "  s.onerror = function(){console.warn(\"failed to load library \" + url);};\n",
              "  document.getElementsByTagName(\"head\")[0].appendChild(s);\n",
              "}\n",
              "\n",
              "if(typeof(LDAvis) !== \"undefined\"){\n",
              "   // already loaded: just create the visualization\n",
              "   !function(LDAvis){\n",
              "       new LDAvis(\"#\" + \"ldavis_el84851396899833710721786076413\", ldavis_el84851396899833710721786076413_data);\n",
              "   }(LDAvis);\n",
              "}else if(typeof define === \"function\" && define.amd){\n",
              "   // require.js is available: use it to load d3/LDAvis\n",
              "   require.config({paths: {d3: \"https://d3js.org/d3.v5\"}});\n",
              "   require([\"d3\"], function(d3){\n",
              "      window.d3 = d3;\n",
              "      LDAvis_load_lib(\"https://cdn.jsdelivr.net/gh/bmabey/pyLDAvis@3.3.1/pyLDAvis/js/ldavis.v3.0.0.js\", function(){\n",
              "        new LDAvis(\"#\" + \"ldavis_el84851396899833710721786076413\", ldavis_el84851396899833710721786076413_data);\n",
              "      });\n",
              "    });\n",
              "}else{\n",
              "    // require.js not available: dynamically load d3 & LDAvis\n",
              "    LDAvis_load_lib(\"https://d3js.org/d3.v5.js\", function(){\n",
              "         LDAvis_load_lib(\"https://cdn.jsdelivr.net/gh/bmabey/pyLDAvis@3.3.1/pyLDAvis/js/ldavis.v3.0.0.js\", function(){\n",
              "                 new LDAvis(\"#\" + \"ldavis_el84851396899833710721786076413\", ldavis_el84851396899833710721786076413_data);\n",
              "            })\n",
              "         });\n",
              "}\n",
              "</script>"
            ]
          },
          "metadata": {},
          "execution_count": 48
        }
      ]
    },
    {
      "cell_type": "markdown",
      "source": [
        "# Sentimental Analysis (감성 분석)\n"
      ],
      "metadata": {
        "id": "hDchcKpCwTXn"
      }
    },
    {
      "cell_type": "markdown",
      "source": [
        "## 1) 머신러닝 알고리즘을 활용하여, 긍정/부정 감성을 분류"
      ],
      "metadata": {
        "id": "5mdoDRRVynkM"
      }
    },
    {
      "cell_type": "code",
      "source": [
        "labels = df['review'].iloc[:1000].values\n",
        "print(labels.shape)\n",
        "print(labels[:5])"
      ],
      "metadata": {
        "id": "WddV1U0JNYb8",
        "colab": {
          "base_uri": "https://localhost:8080/"
        },
        "outputId": "d9c8f904-4055-4563-e6b9-7df2eeef6a83"
      },
      "execution_count": null,
      "outputs": [
        {
          "output_type": "stream",
          "name": "stdout",
          "text": [
            "(10,)\n",
            "['\\n★★★★☆\"사회문제조차도 따뜻하게 포용하는 디즈니의 또다른 걸작.\"픽사는 디즈니를 닮아가고, 디즈니는 픽사를 닮아간다. 2010년대의 디즈니와 픽사의 관계를 한줄로 요약하자면 아마 이럴것이다. 이것은 단순히 픽사가 [메리다와 마법의 숲]같은 프린세스물을 만들었기에 하는 소리도 아니고, 디즈니가 [주먹왕 랄프]같이 전성기의 픽사처럼 통통튀는 상상력을 토대로한 작품을 만들었기 때문에 하는 소리도 아니다. 최근 픽사는 디즈니가 줄곧 그래왔던것처럼 \\'가족\\'이나 \\'감정\\' 같은 다소 개인적인 주제로 작품에 접근하고 있는 반면에 ([인사이드 아웃]이나 [굿 다이노]), 디즈니는 전성기 시절 픽사가 그랬던것 처럼 \\'정치적\\'인 주제로 작품에 접근하고 있다. \\'정치적\\'이라는 단어가 다소 생소하게 느껴질텐데, 디즈니가 펑크 록밴드처럼 \\'대통령 엿먹어!\\' \\'전쟁 반대!\\' 이런 구호를 외친다는것이 아니라 사회 시스템에 대해 관심을 가지기 시작했다는 의미이다. 이 뜻을 설명하기 위해서는 잠시 2000년대 중반으로 돌아가서 픽사의 전성기 시절을 되돌아 보아야 한다. 그때 당시 평론가들이 픽사 스튜디오에게 내린 주된 평은 이것이였다. \\'가장 정치적이면서 가장 정치적이지 않은 회사.\\' 여러분이 재밌게 보았던 [인크레더블]이나 [월E]같은 작품들을 떠올려보자. [인크레더블]은 \\'히어로 패밀리\\'라는 큰 주제를 가지고 있지만 은연중에 고객들을 등쳐먹고 있는 보험회사를 비판하기도 하고, [월E]에서는 대기업의 독점이 사회 시스템에 얼마나 악영향을 미치고 있는지를 보여주고 있다. 잘 생각해보면 픽사 작품에서 \\'숲\\'은 가족영화의 형태를 띄고 있지만 숲을 구성하고 있는 \\'나무\\'들은 사회를 바라보는 시니컬한 시선의 주제들로 구성되어있다. 픽사는 그런 영화를 만들던 회사였다.\\xa0그런데 픽사가 디즈니의 산하회사로 들어가게된 이후 픽사와 디즈니간의 교류가 잦아지면서 점차 둘을 구분하던 경계선이 흐릿해졌다. 이제는 픽사가 디즈니처럼 보이고, 디즈니가 픽사처럼 보이는 지경까지 이르게 된것이다. 하지만 놀랍게도 서로의 아이덴티티를 뒤바꾼 결과 그 시너지는 실로 엄청났다. 그 사실은 [인사이드 아웃]과 [주토피아]가 증명하고 있다.[주토피아]는 우선 그 동안 디즈니 영화에서 느꼈던 독특한 장점들이 통통튀는 작품이다. 매력적인 캐릭터를 만드는데 일가견이 된 디즈니는 이번에도 역시 사랑스러운 캐릭터를 통해 성공적인 스토리 텔링을 이끌어내고 있다. 마치 최대한 사랑스럽게 풀어낸 범죄 스릴러를 보는것 같다. 개인의 사건이 사실은 큰 흑막에 가려져 있었다는 전개는 그 동안 많이 봐왔었던 것이지만 [주토피아]에서는 그것이 식상해보인다던가 틀에 박혀있다는 인상을 받지 않았다. 우선 장르 특성상 어린 아이들을 타겟층으로 한 애니메이션에서 이러한 시도는 그동안 보지 못했던것이였고, 무엇보다 전체적인 소재와 배경 자체가 독특하기 때문이다. 동물을 의인화한 애니메이션은 많았지만 동물이 극도로 진화해서 현재 인간이 살고있는 사회처럼 살아가고 있고,\\xa0그와 동시에 동물이 진보된 사회를 이룩하긴 했지만 아직도 본능은 남아있다는 설정이 상당히 새롭게 다가왔다. 그렇기에 독특한 소재를 등에 업고 이끌어 나가는 이야기에는 확실히 개성이 있다. 또한 이러한 영화적 요소를 고려하지 않고 그저 캐릭터들이 어떻게 행동하고 어떻게 말하는지를 보는것 자체만으로도 즐겁다. 앞서 말했듯이 디즈니는 매력적인 캐릭터를 창조해내는데 일가견이 되었기 때문에, 그리고 귀여운 캐릭터들을 둘러싸고 있는 세계가 마치 살아 숨쉬는것 같기 때문에 그들이 창조한 \\'주토피아\\'라는 세계는 매력적이고 사랑스럽다.그런데 [주토피아]는 디즈니 특유의 장점을 잘 살린 작품이기도 하지만 아이러니 하게도 동시에 이전의 디즈니 영화들과는 다소 다른 양상을 띄고 있다. [주먹왕 랄프]가 \\'픽사\\' 스타일에 가까웠고 [겨울왕국]이 전형적인 \\'디즈니\\'의 스타일을 가지고 있다면 [주토피아]는 그 두개의 모습을 모두 갖춘듯한 스타일을 가지고 있다. 이 뜻은, [주토피아]의 귀엽고 발랄한 분위기의 세계 이면에는 무거운 주제의식이 자리잡고 있다는것이다. 태초에 동물들은 쫓기는 약자와 그들을 사냥하는 포식자로 나뉘어 있었다. 하지만 시간이 흘러 동물들도 진화했고, 서로 다른 동물들이 살아가는 \\'주토피아\\'는 포식자와 약자의 구분없이 평등하고 평화롭게 살아가자는 모토를 토대로 세워진 발전된 도시였다. 하지만 그럼에도 불구하고 \\'포식자\\'들에 대한 \\'약자\\'들의 공포는 아직까지도 남아있었다. 닉과 주디가 조사한 사건으로 인해 공포는 전 도시에 만연하게 되었고, 도시는 약자들과 포식자들로 나누어졌다. 그런데 옛날과는 달리 상황은 달라졌다. 다수인 \\'약자\\'들이 소수인 \\'포식자\\'들을 억압하기 시작한것이다. \\'포식자\\'들은 차별당했고, 억압받았다. 폭력의 양상이 뒤바뀐것이다. [주토피아]는 관객들로 하여금 한가지 질문을 던진다. \\'약자\\'가 \\'포식자\\'에 가하는 차별이 과연 정당화될수 있을까?\\xa0폭력의 역사는 인류가 걸어온 역사의 발자취를 따라왔고 그리고 지금의 사회에서도 버젓이 벌어지고 있는 이슈이다. 예전의 억압을 받던 이들이 다수가 되어서 힘을 행사하기도 하고, 예전에 차별을 일삼던이들이 이제는 소수가 되어서 차별을 받기도 한다. 하지만 이러한 다양한 형태의 폭력과 차별은 아무런 이익도 주지 않는다는것을 우리는 수많은 전쟁과 사회적 문제를 겪어오면서 깨달았다. [주토피아]의 결말이 그러하듯 폭력과 차별은 공포정치의 한 형태일뿐이다. 서로를 증오하고, 사회가 분열되는것의 결과는 현대사회가 추구하는 \\'평등과 평화\\'라는 목적과는 거리가 먼것이였다.[주토피아]에서 정말 높게 평가하고 싶은점은 이러한 무거운 메세지를 쉽고 편하게 풀어나간다는 것이다. \\'폭력과 차별\\'을 주제로 한 영화들은 많았지만, 남에게 추천해주기에는 부담스러운 경우가 대다수였다. 왜냐하면 극장을 나오고 나면 기분이 우울해지고 무겁게 다가오기 때문에, 주제에 대해서 편한 마음으로 대하기가 어려웠다. 하지만 [주토피아]는 디즈니의 밝은 면과 픽사의 어두운 면, 두가지를 수용해서 시너지를 내는 효과를 발휘했다. 그 결과 [주토피아]는 무거운 주제를 다루면서도 관객들에게 친절하고 따뜻한 모습으로 다가온다. 그렇기에 [주토피아]는 그 누구도 미워할수 없는 영화이다. 사회문제 조차도 따뜻하게 포용하는 디즈니이기에 [주토피아]를 또 하나의 걸작으로 보고싶은 이유이다.\\n'\n",
            " \"\\n※글 작성 관련하여 스포가 조금 있으니 피하고자 하시는 분은 뒤로가기를...--------------------------------------------------------------------SNS가 발달함과 함께 인터넷상에서는 '남녀평등'에 대한 주제로 시끄러운 추세이다.모두가 똑같을수 없는 '다르다'는 문제는 서로간의 이해 보다는 '혐오'가 생겼고 \\xa0우리는 그 문제 속에서 살아가고 있다.영화 '주토피아' 속에서도 마찬가지 이다.\\xa0작 중 (인류가 없다는 설정)에 동물들은 문명화를 이루고 언어를 사용할 만큼 진화하여\\xa0'육식동물'과 '초식동물' 사이에 평화가 생기고 거대도시 '주토피아'가 탄생한다. \\xa0시골에서 태어난 토끼 '주디 홉스'는 어릴 때 부터 경찰이 되어 세상을 평화롭게 하고자 하는 꿈을 가지고 있다.작 중 초반 설정상에 (동물)경찰은 '육식동물' 밖에 없었고 경찰이 되고자 하는 그녀의 꿈을 모두 비웃는다. 심지어 부모조차 그녀가 다른 꿈을 찾기를 원한다.초식동물은 경찰이 될 수가 없다는 편견의 시선속에 그녀는 끈임없는 노력으로 경찰학교에서 수석으로 졸업하여 '첫' 초식동물 경찰이 된다.작품 내에서 여기까지의 런타임은 그리 길지 않고 그녀가 경찰이 되어 주토피아로 상경 할 때 긍정적이고 밝은 모습을 보이지만 그녀는 이미 '편견'과 '차별' 속에서 경찰이 되었다.그녀가 경찰이 되어 첫 출근 날 주디는 동료 경찰 클로하우저(뚱땡이 표범)에게 '귀엽다'는 소리를 듣고 불편한 모습을 보인다.'다른 종에게 그런 말 좋지 않아'하지만 그녀가 이런 모습을 보이는것은 당연하다.유토피아\\xa0-현실적으로는 아무데도 존재하지 않는 이상의 나라, 또는 이상향(理想鄕)을 가리키는 말위 단어의 뜻 만큼 ZOO와 유토피아의 합성어인 주토피아는 모든 동물의 이상향과 같은, 맹수와 초식동물이 함께 살아가는 이상적인 나라인임에도 그 속에는 온갖 차별이 존재한다.주토피아에 희망찬 꿈을 가지고 온 그녀도 차별과 멸시를 당하여 자신의 꿈에 대한 회의감을 가진다.그러한 상황속에서 그녀는 사기꾼 '닉 와일드'를 만나고 그녀가 처한 사건에 그가 연루되어 있는걸 \\xa0알고는 그에게 관심을 가지게 된다.그와 다니면서 여러 사건이 일어나고 디지니 특유의 재미와 함께 우리의 여우의 '고유한 아픔'을 보여준다.여우라는 동물이 교활하고 탐욕스럽다는 이미지는 만국이 공통적인 것인지 주토피아에서 여우는 교활한 모습을 한 동물이다 라는 편견이 지배한다.그런 편견속에 닉 와일드는 어릴 적 스카우트의 꿈을 포기하고\\xa0'보이는 데로 살아간다'라는 \\xa0현실에 순응하고 만다.극복한 자와 적응한 자의 캐미에서 둘은 서로간의 부족한 모습과 함께 편견을 없애간다.\\xa0그리고 디지니의 작품은 해피앤딩이기에 만사가 모두 좋게 끝을 본다.\\xa0이렇게 주토피아에서의 차별은 사라지고 말그대로 '이상향'에 가까운 세계가 된다.이야기가 이야기인 만큼 유토피아가 현실에 존재하지 않는 이상적인 나라라는 뜻도 품고 있어 현실에서는 주토피아 만큼 쉽게 우리 사회안에 '차별'과 '편견'을 없애기가 쉽지가 않다.하지만 적어도 이야기가 전하고자 하는 메시지 속에서 우리 개개인 마음속의 '편견'과 '차별'을 없앤다면 주토피아 만큼이나 밝은 사회가 되지 않을까 싶다.\\xa0\\xa0\\n\"\n",
            " \"\\n\\u200b\\u200b첫인상은 솔직히 별로였다. 행여나\\xa0끝나는 순간까지 '노력으로 환경을 이겨내는' 진부한 이야기에서 1g도 벗어나지 않을까 봐 두려움이\\xa0밀려올 정도로 영화는 단순해 보였다. 그래도 요즘이 어떤 세상인데 분명 익숙한 이야기라도 세련되게 풀어내겠지, 어느 순간에는 눈물샘을 터뜨려주겠지..., 이러면서 실망감을 애써 추슬렀더랬다. 영화 보는 도중에 스스로 다독여야 하다니 어휴...ㅎㅎ\\n\\n\\n\\n주토피아\\n\\n감독\\n바이론 하워드, 리치 무어\\n출연\\n지니퍼 굿윈, 제이슨 베이트먼, 샤키라, 이드리스 엘바, 알란 터딕, J.K. 시몬스\\n개봉\\n2016 미국\\n평점\\n\\n\\n\\n\\n\\n\\n리뷰보기\\n\\n\\n\\u200b하지만 웬걸, 이야기는 자연스럽게 흐르면서 놀랍도록 입체적인 모습을 보여준다. 그저 편견에 맞서는 토끼 이야기인 줄 알았던 영화는 점점 그러한 편견이 온 세상에 어떻게 작용하는지를 선명하게 드러내고 고발하는 우화로 변모한다.영화는 해석할 필요도 없이 매우 명징한 구조를 보여준다. 여러 동물이 보여주는 모습과 특징에 성별, 인종, 민족, 이데올로기 등 어느 것을 대입해도 자연스럽게 읽힐 정도로, 영화는 탁월한 방식으로 이야기를 풀어낸다. 괜히 키즈프리 시사회를 연 게 아니었어. 오히려 어른이 보아야 더욱 즐겁게 즐길 수 있는 영화였다니.\\xa0정말이지 요즘 애니메이션이란ㅋ 웬만하면\\xa0믿고 봐도 괜찮은 듯하다.\\u200b세상은 생각보다 복잡하다'토끼는 다른 동물에 비해 힘이 약하다.'와 '토끼는 경찰 업무를 수행할 수 없다'. 이러한\\xa0두 생각 사이에는 큰 간극이 있다. '육식동물은 본능\\xa0속에\\xa0날카로운 감각과 강한 힘을\\xa0숨기고 있다.'와 '육식동물은 특수한 상황에서 반드시 폭력적인 성향을 드러낸다.'도 마찬가지다. 전자에서 출발한다고 해서 반드시 후자에 이르지 않음에도,\\xa0우리는 이러한 두 생각을 엄밀하게 구분하지 못하고 섞어서 드러내거나 표현하곤 한다.불과 한두 세대 전까지만 해도 전자와 후자를 곧바로 연결하면서 이를 당연하게 생각하거나, 혹은 그렇지 않더라도 이러한\\xa0단순한\\xa0사고가\\xa0일을 성취하거나 공동체를 보호하는 데 효율적이라고 여겼던 것 같다. 네 편 내 편을\\xa0어렵지 않게\\xa0가르고 생각을 단순하게 만들어 쉽게 행동할 수 있도록 하기 위해서였으리라.하지만 더는 생각을 하나로 모으거나 네 편\\xa0내 편을 가르지 않아도 될 만큼 그 바탕이 충분히 커지고 안전하게 다져진 지금 사회에서는, 예전과 같은 단순함이 누군가에게는 고통이 되기도 하는 듯하다. '토끼는 당근을 재배하면서 살면 된다'고 하는 생각이 사회 구성원 대부분에게는 유익을 주었지만, 주디에게는 고통을 준 것처럼 말이다.이성과 의지에\\xa0꾹꾹 눌려왔던 감정이 터져 나오듯 여러 다양한 모습과 성향과 의견이 터져 나오는\\xa0세상을 살아가면서, 우리는 하루하루 주디와 같이,\\xa0어쩌면 주디보다 더욱더\\xa0세상의 다양한 모습과 마주하고 있는지도 모른다. 어쩌면 이러한 세상은 나도 모르게 습득한\\xa0편견을 극복하도록 열심을 내어 우리를 돕고 있는 것은 아닐까.어린 시절에는 난폭했지만, 나이를 먹고 나서는\\xa0평범해진 육식동물, 암흑가를 지배할 정도로 흉포하고 무섭지만, 또한 결코 은혜를 잊지 않는 작고 귀여운ㅋ\\xa0동물, 다소간 죄짓는 것을 감수하고서라도 사회 질서를 유지하고자 했던(태도에서 살짝 기회주의가 엿보이긴 하지만ㅋ)\\xa0육식동물, 실은\\xa0가장 악독해서 모두를 조종하려고 했던 초식동물, 보통 힘이 세지 않으면 약삭빠르기 마련인데 결국 끝까지 신의를 지킨 육식동물까지, 주디는 실로 다양한 동물을 접하며 자기가 가진 편견을 극복해나간다.물론 다른 동물보다 더욱 자기를 발견하면서 주디는 한층 성장한다. 다른 사람은 몰라도 나는 편견에 맞서 싸운다고 생각했지만,\\xa0실은 남들과 똑같이, 아니 어쩌면 더 교묘한 편견 속에 머물며 누군가에게 상처를 주고 마는 내 모습을 발견하면서 세상을 바라보고 이해하는 주디의 깊이는 아마도\\xa0더욱\\xa0깊어지고 풍부해졌으리라.\\xa0언제나 가장 큰 변화는 자기와 직면하면서 일어나기 마련이다. 주디는 결국 세상이 보여주는 복잡함과 다양성을 있는 그대로 인정하고 받아들이며 그 걸음을 내딛게 된다.\\u200b세상은 생각보다 단순하다그렇다면 과연 세상이 드러내는 복잡함과 다양성을 있는 그대로 들여다보는 것은 매우 골치 아프고 번거로운 일일까? 전혀 그렇지 않다. 오히려 편견이 없으면 없을수록 세상은 단순하게 읽히기 마련이다. 여러 복잡함과\\xa0다양성을 편견 없이\\xa0들여다볼\\xa0때, 우리는 비로소 그러한\\xa0복잡함과 다양성을 두려움으로 치환해 세상을 지배하는\\xa0이들을\\xa0보게 된다. 인종과 사상에 앞서는 '힘'이 결국 이 모든 것을 이용하고 있었다는 사실을 깨닫게 된다.인류\\xa0역사와 함께 흘러온\\xa0사상사는 매우 복잡하지만, 그 이면에는 언제나 '힘'이 있었음을\\xa0이해할 때, 우리는 힘이 어떤 식으로 갈등을 조장하고 그것을 자기에게 유리하게 변용해왔는지를 들여다볼 수 있다.\\xa0그 실체가 초식동물인지 육식동물인지는 중요하지 않다. 그들 마음대로 북 치고 장구 치는 놀음에 놀아나지 않으려면, 어떤 동물이든 결국 '힘 있는 동물'이 초식과 육식을 가르는 이러한 차이를 이용해왔을 뿐이라는 사실을 우리는 늘 기억해야 한다.개인적으로 이 영화는 포스트모던이\\xa0어디까지 성숙했는지를 보여주는 지표라고 생각한다. 확고한 진리,\\xa0단일한\\xa0이론만을 추구하는\\xa0흐름에\\xa0상처받은 이들이 처음으로 포스트모던의 기치를 들고 나왔을 때만 해도 그들은 '진리는 없어! 담론 따윈 집어치워!'라며 징징댈 뿐이었다. 하지만 수많은 반발을 견뎌내고 지금까지 포스트모던을 고수해온 이들은 이제 어떻게 이야기해야 사람들이\\xa0우리 이야기에 귀 기울이는지를 경험으로 깊이 이해한 듯하다. 이제 그들은 진리는 없다고 말하지 않는다. 다만 '세상은 단순하지 않아. 세상은 우리가 생각하는 것보다 더욱 복잡해.'라고 말할 뿐이다.이제 세계가 모던과 포스트모던 진영으로 나뉘어 싸우던 시절은 거의 다 지나간 것처럼 보인다. 아이들을 대상으로 하는\\xa0애니메이션조차 '세상은 복잡하다'는 메시지를 담아낼\\xa0정도니ㅎㅎ 이제는 모던과 포스트모던 진영을 예전처럼 싸우게 하기는 아마도 조금 어렵지 않을까.그렇다면 과연 힘 있는 이들은 이다음으로 어느 영역에서 싸움을 붙이려고 할까? 우리는 과연 그들이 세운 전략을 간파할 수 있을까. 그들이\\xa0휘두르고자 하는 대로\\xa0휘둘리지 않을 수 있을까. 너무 걱정하지 말자. 세상은 단순하다. 습기가 많은 곳에 곰팡이가 피듯이, 그들은 항상 우리가\\xa0가장 많이 두려워하는\\xa0곳으로 눈을 돌릴 테니까 말이다.상상을 초월하는 반전을 선사해준 나무늘보에게 심심한 감사를 전하며, 주토피아, 추천한다. 단, 귀여움은 조금 주의하기를.\\u200bP.S. 올해도 상큼하게 시사회로 시작해서 얼마나 감사한지. 가끔 주변에서 어떻게 그렇게 자주 당첨되느냐고 묻곤 하는데... 적어도 응모는 하고 물어보는 걸로.P.S.2 리뷰 제목은 동명 도서를 참고했다. 물론 전혀 다른 내용이긴 하지만ㅎㅎ 약간은 관련 있을지도...?\\n\"\n",
            " '\\n우선, 영화는 영상과 설정과 케릭터만 매력적이고 스토리는 그닥... 이라는 생각이 들게끔 하는 영화였습니다. 차라리 영화말고 tv드라마 식으로 갔으면 더 좋았을 것이라는 생각도 들었고요.스토리들은 대부분이 뻔한 클리셰와 눈에 보이는 복선과 스토리 그리고 납득이 가지 않는 반전으로 이러한 설정과 케릭터로 이런 스토리를 짰다는 사실이 참... 차라리 경찰 일상물 드라마를 만들던지.(지금부터 스포)눈에 보이는 클리셰 1체포했다가 경찰 동료들 다 모이니까 사라진 증거품 or 증인.그리고 꼭 빠지지 않는 대사 \"아니, 분명히 여기 있었는데\"하... 정말 뻔하더라고요.눈에 보이는 클리셰 2자신의 계획을 말하는 악당.그 sheep쉑끼가 마지막에 총 쏘고 토끼가 죽어갈 때 자기가 한 짓들을 다 떠들어댐 ?? 물론 이것이 오래된 영화 클리셰긴 하지만 그걸 굳이 여기서 또 보여주어야 되나? 그리고 \\'허슬 허니\\' 처음 할 때는 귀엽긴 했는데 그걸 굳이 그 장면에서 했어야 했나? 너무 갖다붙이는 복선에다가 당근펜? 그거는 왜 이렇게 많이 나오는지, 반전의 용도가 없어짐. 양한테 쫒기다가 갑자기 블루베리 먹고.(맨 처음에는 약을 블루베리로 착각하고 먹어서 양들 다 잡아먹나? 싶었는데 아니더라.)아무레도 한 편에 영화에 세계관 소개, 사건 떡밥, 두 사람이 친해지는 계기, 간간한 개그, 반전, 훈훈한 결말들을 넣으려면 부족할 것이다. 그러니까 차라리 드라마로 만들지.이해가 안가는 점 1-왜 육식동물들을 차별하는게 나쁜 것이었을까?주디가 육식동물들이 야수로 변하는 것이 DNA에 있던 것이라고 말을 하는 순간 모든 육식동물들은 언제든지 잠재적으로 야수로 변할 수 있다는 것을 인정한 것이다. 그런데 육식동물들을 무서워하니까 모든 육식동물들이 그런 것이 아니라고? 지가 단어 선택을 잘 못 해놓고 \\'내가 생각한 경찰은 이게 아닌데...\\' 이런다. 그러고는 자기가 싼 똥 될 데로 되라 라는 식으로 고향으로 도피??? 뭔...그리고 육식동물 차별은 내가 생각을 해봤을 때 미국인들의 무슬람 차별을 꼬집고자 한 것 같지만 종교와 유전자는 엄연히 다르다. 그리고 무슬람 종요가 테러를 가르친다면 모르겠지만 테러를 일으키는 것은 무슬람 과격분자들이니까 제작진이 말하고자 하는 바가 잘 전달이 되지 않은 것 같다.이해가 안 가는 점 2-미스터 빅아니 상식적으로 대부 패러디 같은데 미스터 빅은 어떻게 마피아 보스가 되었을까? 마피아 영화 보스들의 공통점? 쌈 잘하고 카리스마가 있고 패밀리가 있다. 대부에서도 마피아 보스 자리를 유지할 수 있던 것도 다 자신을 뒤통수 치지 않을 가족들이 조직원이어서다. 근데 쥐랑 북극곰이 가족일까? 그럼 왜 북극곰들은 이 쥐의 말을 듣는 것일까? 의문이 든다.이해가 안 가는 점 3-나무늘보 직원들물론 재미를 위해서라지만 너무 위화감이 들었다. 일처리 제대로 안 하는 DMV를 비꼬는 목적이었겠지만 주토피아라는 시스탬의 모순점을 보는 것 같아서 속으로는 신경 거슬렸습니다. \\'저 회사는 면접을 안 보나?\\' 이런 식의 물음들이 꼬리에 꼬리를 물며 결국 나무늘보가 안 나올 때까지 계속되었습니다.이해가 안 되는 점 4-왜 스마트 폰 검색을 안 하지?상식적으로 자신이 모르는 단어가 나오면 스마트폰으로 검색을 하게 된다. 맨 처음 표범을 만났을 때 \\'밤의 울음꾼\\'이라고 할 때 검색을 하든 케이블카에서 하든 한 번쯤은 했을 것이고 그랬으면 그게 그 마약의 사투리라는 것을 알 수 있었을 것이다. 스마트 폰은 엿바꿔 먹었냐?이해가 안 되는 점 5-블루베리 비슷한 마약그렇다면 이 블루베리 비스무리 한 것은 먹기만 해도 지속기간 없이 해독제를 먹지 않으면 무기한 지속된다는 것인가? 그리고 무슨 연구원은 촌동네 아지매도 알고 있는 식물의 부작용도 모르냐? 말이 됨?----그리고 모든 동물들이 두 발로 걷고 옷을 입도록 진화를 했다면 왜 다 털이 있을까요? 인간도 원래는 유인원 털북숭이에서 점점 진화를 해가며 털옷을 만들고 하며 털의 필요성이 없어지며 이렇게 몸에 털이 거의 없는 상황으로 진화를 한 것인데. 언어를 쓰고 두발로 걸으며 스마트 폰을 볼 정도로 진화를 했지만 털은 있다? 그건 진화가 아니지.딱 이정도가 영화적 설정으로 용납될 수 있는 강도다.-------------내 글을 보고 의문점이 생기거나 그건 아니다라는 댓글을 달면 성실히 답해드림댓글 FAQQ: 이건 걍 영화여 영화. 걍 영화대로 봐A: 제가 제일 싫어하는 댓글 중 하나인데 영화로서 허용되는 것은 세계관, 인물의 성격을 정하는 것이지. 어따 팔아먹었는지 모르는 개연성, 말도 안 되는 설정 (나무늘보 직원), 인물들의 이해 안되는 행동은 아닙니다. 개연성, 세계관에 맞는 설정, 이해 되는 행동. 그런 것은 영화가 갖춰야 할 것이죠. 그러니까 영화는 영화로 보라는 분들은 클레멘타인 보면서 \"암, 영화니까 뭐, 영화는 영화로 보자고\", \"야, 니가 만들어보던가\" 하시겠죠?Q: 너 영화 안 봤지?A: 차라리 영화가 아니라 드라마였으면.<p align=\"left\">나와서 노래만 하고 간 가젤귀여운 주디나 보고 가랑\\n'\n",
            " '\\n취미로 글쓰는 중 입니다~ 많이 미흡해도 이쁘게 봐주세요!!한 사람의 인생을 멀리서 보면 희극이고,\\xa0가까이서 보면 비극이라는 말이 있다.\\xa0영화 주토피아 역시 그렇다.\\xa0겉으로만 봤을 땐 아주 단순한 어린이용 애니메이션이었지만 속 깊은 곳엔 우리 사회에 만연하는 차별과 불평등 같은 무거운 주제들을 던지고 있었다.\\xa0영화란 것이 멈추지 않고 달려 나가기 때문에 깊이 생각할 겨를이 없었다.\\xa0그래서 영화를 보는 동안만큼은\\xa024살 청년에서\\xa010세 아동이 되어 깔깔깔 웃으면서 봤다.\\xa0하지만 영화가 끝나고 집으로 돌아가는 버스 안에서 심각한 사유에 빠졌다.\\xa0우리 사회가 완전한 유토피아가 될 수 있을까?\\xa0행복한 삶을 살기 위해선 어떤 노력을 해야 하는가?\\xa0영화는 나에게 꼬리에 꼬리를 무는 이러한 무거운 질문들을 던져 주었다.\\xa0주토피아는 덩치가 크고,\\xa0힘이 강한 맹수들과 작고 귀여운 동물들이 한 대 어우러져 사는 동물세계의 유토피아다.\\xa0모든 동물들이 평등하고,행복하게 살 것 같았다.\\xa0하지만 영화를 보면 이 곳에서도 직업이 나뉘고\\xa0“여우는 교활하다.”, “토끼는 약하기 때문에 힘쓰는 직업을 선택해서는 안 된다.”와 같은 편견들이 존재하고 그들을 차별한다.\\xa0이런 불평등한 세상에 작가는 주토피아란 말을 왜 썼을까?\\xa0처음엔 우리가 꿈꾸는 유토피아적인 세계와 같은 세상에 사는 행복한 동물들을 담아낸 영화를 상상했다.\\xa0그러나 내가 생각한 주토피아는 없었다.\\xa0영화감독이 이러한 설정을 한 것은 우리 사회가 완전한 유토피아가 될 수 없다는 것을 보여준 것이 아닐까.\\xa0완전한 유토피아는 평생 오지 않을까?\\xa0유토피아는 모든 사람들이 차별 없고,\\xa0행복한 이상적인 세계다.\\xa0내 생각엔 이런 세계는 없다.\\xa0절대 오지 않는다.\\xa0인간은 자장면 짬뽕을 두고 자신의 신체가 무엇을 더 선호하는지 즉각 반응하지 못한다,\\xa0선택해놓고 또 후회하는 그런 불완전한 존재다.\\xa0자기 자신 조차 제대로 파악하지 못하는 인간이 만들어 놓은 종교,\\xa0법,\\xa0국가는 얼마나 허점이 많겠는가.\\xa0그렇다면 정말 정교하고 감정이 없는 인공지능이 통치하는 시대에서는 가능할까?\\xa0모든 인간이 백수생활을 하고 똑같은 돈을 받고,\\xa0로봇이 인간의 일을 대체하는 시대가 온다면 가능하지 않을까?\\xa0이것도 불가능이다.\\xa0직업과 부는 행복의 척도 중 하나이지 행복의 모두를 차지하지는 않기 때문이다.\\xa0인간은 타인과 끊임없이 구별 지으려는 본능이 있다.\\xa0직업이 평등해지면 부로 부가 평등해지면 외모로 외모가 평등해지면 취미로 끊임없이 남과 다른 나를 만든다.\\xa0그렇게 해야 내가 존재하는 의미를 찾을 수 있기 때문이다.\\xa0극단적으로 모든 인간이 완전히 똑같아진다고 가정 해봐도 과연 그것이 유토피아일까 의심스럽다.\\xa0주토피아는 선천적으로 강한 동물\\xa010%\\xa0선천적으로 약한 동물\\xa090%가 어우러져 살고 있다.\\xa0강한 힘을 타고난 소수가 다수를 지배하는 삶이 끊임없이 반복되었다.\\xa0그러던 중 약한 동물의 몇 몇이 어두운 경로로 악행을 저지르고,\\xa0강한 동물들을 없애 다수의 세상을 꿈꾼다.\\xa0하지만 결국은 주인공인\\xa090%에 속하는 토끼 경찰에게 붙잡히고 만다.\\xa0우리 사회도 지속적으로 소수의 권력자들에게 지배당하고 있다.\\xa0그리고 서로 경쟁을 시킨다.\\xa0공정경쟁이라는 이름하에.\\xa0그러나 선천적으로 강한 동물과 같이 태어날 때부터 금수저를 물고 공부를 하는 아이와 지독하게 가난한 아이들을 똑같은 선에서 경쟁시키는 것이 과연 맞는 것일까?\\xa0나는 가난한 아이들에게 적어도 똑같은 교육을 시켜주고,\\xa0기회의 폭을 더 넓혀줘야 공정경쟁이라고 생각한다.\\xa0삶의 질이 차이 나고,\\xa0부의 이동이 어려울수록 영화에서처럼 불합리한 세상에 대한 외침은 범죄로 나타날 것이라고 본다.\\xa0다른 한편으로는 영화에서의 토끼처럼 아무리 불공평한 세상이라도 불평하거나 범죄를 저지르기 보다는 한 사람,\\xa0한 사람이 보다 더 나은 세상을 만들기 위하여 노력하고,\\xa0공정한 방법으로 싸워야 진정한 조화를 이룰 수 있다는 것을 보여주는 것 같다.\\xa0그리고 우리는 주인공인 토끼의 삶에서 많은 것을 배운다.\\xa0태어날 때부터 토끼는 약하다.\\xa0빨리 달리기 말고는 할 줄 아는 것이 없다.\\xa0그렇지만 토끼는 경찰을 꿈꾼다.\\xa0그동안 경찰을 꿈꿔왔던 동물들은 다 힘이 강하고,\\xa0덩치가 큰 동물들이다.\\xa0그런 것은 토끼에게 문제가 되지 않는다.\\xa0주변에서 아무리 말려도 소용없다.\\xa0자신이 하고 싶은 것은 경찰 말고는 없기 때문이다.\\xa0결국 경찰대학에 갔다.\\xa0하지만 선천적으로 타고난 동물들에 비해 너무 약하다.\\xa0그러나 토끼는 포기하지 않고,\\xa0자신이 부족한 힘을 키우기 보다는 자기가 잘 할 수 있는 스피드를 바탕으로 가장 우수한 경찰이 된다.\\xa0이러한 주인공의 삶이 우리가 행복한 삶을 살기 위해 노력해야하는 부분인 것 같다.\\xa0주토피아의 동물세계처럼 우리의 인간세계도 힘이 강한 사람,\\xa0약한 사람,\\xa0똑똑한 사람 등 정말 다양한 사람들이 함께 엉켜 살아간다.\\xa0그리고 어쩔 수 없이 선천적인 특질과 기질에서의 불평등과 차이는 나타나기 마련이다.\\xa0그렇다고 우리의 삶을 비관하고,\\xa0좌절만 하고 있다면 그 보다 불행한 삶은 없을 것이다.\\xa0처음에 주(zoo)토피아란 제목을 지은 것은 동물들이 어우러져 사는 이상적인 세상을 표현한 것이라고 가볍게 생각했다.\\xa0영화가 끝난 후 감독이 이 제목을 지은 이유를 곰곰이 생각해 보았다.\\xa0유토피아의\\xa0u를\\xa0zoo로 바꾼 듯이\\xa0u를\\xa0you로 바꾸어 유(you)토피아,\\xa0진정한 유토피아적인 세상을 만들기 위해서는 그러한 세상이 만들어지기를 수동적으로 기다리는 것이 아니라 너 스스로 능동적으로 자신만의 세계를 만들라는 것이 아닐까.\\xa0타인의 능력과 나의 능력을 비교하지 않고 자신만의 삶을 능동적으로 창조해가는 것이 진정한 행복으로 가는 길이 아닐까 생각한다.\\n']\n"
          ]
        }
      ]
    },
    {
      "cell_type": "code",
      "source": [
        "# 사이킷런 패키지 활용\n",
        "from sklearn.linear_model import LogisticRegression\n",
        "\n",
        "# 로지스틱 분류 모델링 객체를 생성\n",
        "lr = LogisticRegression()\n",
        "\n",
        "# TF-IDF 벡터를 입력하여 모델 학습\n",
        "lr.fit(review_tfid, labels)"
      ],
      "metadata": {
        "id": "ippxvWu4w4g-",
        "colab": {
          "base_uri": "https://localhost:8080/"
        },
        "outputId": "dc86f854-5219-4225-e154-b921d7a4874c"
      },
      "execution_count": null,
      "outputs": [
        {
          "output_type": "execute_result",
          "data": {
            "text/plain": [
              "LogisticRegression()"
            ]
          },
          "metadata": {},
          "execution_count": 50
        }
      ]
    },
    {
      "cell_type": "code",
      "source": [
        "# 첫 번째 샘플을 이용하여 모델 예측\n",
        "pred = lr.predict(review_tfid[0])\n",
        "print(pred)"
      ],
      "metadata": {
        "id": "AOgJ2_OZw6or",
        "colab": {
          "base_uri": "https://localhost:8080/"
        },
        "outputId": "ab76856a-45e3-4e1a-bb7e-fb924ec99208"
      },
      "execution_count": null,
      "outputs": [
        {
          "output_type": "stream",
          "name": "stdout",
          "text": [
            "['\\n★★★★☆\"사회문제조차도 따뜻하게 포용하는 디즈니의 또다른 걸작.\"픽사는 디즈니를 닮아가고, 디즈니는 픽사를 닮아간다. 2010년대의 디즈니와 픽사의 관계를 한줄로 요약하자면 아마 이럴것이다. 이것은 단순히 픽사가 [메리다와 마법의 숲]같은 프린세스물을 만들었기에 하는 소리도 아니고, 디즈니가 [주먹왕 랄프]같이 전성기의 픽사처럼 통통튀는 상상력을 토대로한 작품을 만들었기 때문에 하는 소리도 아니다. 최근 픽사는 디즈니가 줄곧 그래왔던것처럼 \\'가족\\'이나 \\'감정\\' 같은 다소 개인적인 주제로 작품에 접근하고 있는 반면에 ([인사이드 아웃]이나 [굿 다이노]), 디즈니는 전성기 시절 픽사가 그랬던것 처럼 \\'정치적\\'인 주제로 작품에 접근하고 있다. \\'정치적\\'이라는 단어가 다소 생소하게 느껴질텐데, 디즈니가 펑크 록밴드처럼 \\'대통령 엿먹어!\\' \\'전쟁 반대!\\' 이런 구호를 외친다는것이 아니라 사회 시스템에 대해 관심을 가지기 시작했다는 의미이다. 이 뜻을 설명하기 위해서는 잠시 2000년대 중반으로 돌아가서 픽사의 전성기 시절을 되돌아 보아야 한다. 그때 당시 평론가들이 픽사 스튜디오에게 내린 주된 평은 이것이였다. \\'가장 정치적이면서 가장 정치적이지 않은 회사.\\' 여러분이 재밌게 보았던 [인크레더블]이나 [월E]같은 작품들을 떠올려보자. [인크레더블]은 \\'히어로 패밀리\\'라는 큰 주제를 가지고 있지만 은연중에 고객들을 등쳐먹고 있는 보험회사를 비판하기도 하고, [월E]에서는 대기업의 독점이 사회 시스템에 얼마나 악영향을 미치고 있는지를 보여주고 있다. 잘 생각해보면 픽사 작품에서 \\'숲\\'은 가족영화의 형태를 띄고 있지만 숲을 구성하고 있는 \\'나무\\'들은 사회를 바라보는 시니컬한 시선의 주제들로 구성되어있다. 픽사는 그런 영화를 만들던 회사였다.\\xa0그런데 픽사가 디즈니의 산하회사로 들어가게된 이후 픽사와 디즈니간의 교류가 잦아지면서 점차 둘을 구분하던 경계선이 흐릿해졌다. 이제는 픽사가 디즈니처럼 보이고, 디즈니가 픽사처럼 보이는 지경까지 이르게 된것이다. 하지만 놀랍게도 서로의 아이덴티티를 뒤바꾼 결과 그 시너지는 실로 엄청났다. 그 사실은 [인사이드 아웃]과 [주토피아]가 증명하고 있다.[주토피아]는 우선 그 동안 디즈니 영화에서 느꼈던 독특한 장점들이 통통튀는 작품이다. 매력적인 캐릭터를 만드는데 일가견이 된 디즈니는 이번에도 역시 사랑스러운 캐릭터를 통해 성공적인 스토리 텔링을 이끌어내고 있다. 마치 최대한 사랑스럽게 풀어낸 범죄 스릴러를 보는것 같다. 개인의 사건이 사실은 큰 흑막에 가려져 있었다는 전개는 그 동안 많이 봐왔었던 것이지만 [주토피아]에서는 그것이 식상해보인다던가 틀에 박혀있다는 인상을 받지 않았다. 우선 장르 특성상 어린 아이들을 타겟층으로 한 애니메이션에서 이러한 시도는 그동안 보지 못했던것이였고, 무엇보다 전체적인 소재와 배경 자체가 독특하기 때문이다. 동물을 의인화한 애니메이션은 많았지만 동물이 극도로 진화해서 현재 인간이 살고있는 사회처럼 살아가고 있고,\\xa0그와 동시에 동물이 진보된 사회를 이룩하긴 했지만 아직도 본능은 남아있다는 설정이 상당히 새롭게 다가왔다. 그렇기에 독특한 소재를 등에 업고 이끌어 나가는 이야기에는 확실히 개성이 있다. 또한 이러한 영화적 요소를 고려하지 않고 그저 캐릭터들이 어떻게 행동하고 어떻게 말하는지를 보는것 자체만으로도 즐겁다. 앞서 말했듯이 디즈니는 매력적인 캐릭터를 창조해내는데 일가견이 되었기 때문에, 그리고 귀여운 캐릭터들을 둘러싸고 있는 세계가 마치 살아 숨쉬는것 같기 때문에 그들이 창조한 \\'주토피아\\'라는 세계는 매력적이고 사랑스럽다.그런데 [주토피아]는 디즈니 특유의 장점을 잘 살린 작품이기도 하지만 아이러니 하게도 동시에 이전의 디즈니 영화들과는 다소 다른 양상을 띄고 있다. [주먹왕 랄프]가 \\'픽사\\' 스타일에 가까웠고 [겨울왕국]이 전형적인 \\'디즈니\\'의 스타일을 가지고 있다면 [주토피아]는 그 두개의 모습을 모두 갖춘듯한 스타일을 가지고 있다. 이 뜻은, [주토피아]의 귀엽고 발랄한 분위기의 세계 이면에는 무거운 주제의식이 자리잡고 있다는것이다. 태초에 동물들은 쫓기는 약자와 그들을 사냥하는 포식자로 나뉘어 있었다. 하지만 시간이 흘러 동물들도 진화했고, 서로 다른 동물들이 살아가는 \\'주토피아\\'는 포식자와 약자의 구분없이 평등하고 평화롭게 살아가자는 모토를 토대로 세워진 발전된 도시였다. 하지만 그럼에도 불구하고 \\'포식자\\'들에 대한 \\'약자\\'들의 공포는 아직까지도 남아있었다. 닉과 주디가 조사한 사건으로 인해 공포는 전 도시에 만연하게 되었고, 도시는 약자들과 포식자들로 나누어졌다. 그런데 옛날과는 달리 상황은 달라졌다. 다수인 \\'약자\\'들이 소수인 \\'포식자\\'들을 억압하기 시작한것이다. \\'포식자\\'들은 차별당했고, 억압받았다. 폭력의 양상이 뒤바뀐것이다. [주토피아]는 관객들로 하여금 한가지 질문을 던진다. \\'약자\\'가 \\'포식자\\'에 가하는 차별이 과연 정당화될수 있을까?\\xa0폭력의 역사는 인류가 걸어온 역사의 발자취를 따라왔고 그리고 지금의 사회에서도 버젓이 벌어지고 있는 이슈이다. 예전의 억압을 받던 이들이 다수가 되어서 힘을 행사하기도 하고, 예전에 차별을 일삼던이들이 이제는 소수가 되어서 차별을 받기도 한다. 하지만 이러한 다양한 형태의 폭력과 차별은 아무런 이익도 주지 않는다는것을 우리는 수많은 전쟁과 사회적 문제를 겪어오면서 깨달았다. [주토피아]의 결말이 그러하듯 폭력과 차별은 공포정치의 한 형태일뿐이다. 서로를 증오하고, 사회가 분열되는것의 결과는 현대사회가 추구하는 \\'평등과 평화\\'라는 목적과는 거리가 먼것이였다.[주토피아]에서 정말 높게 평가하고 싶은점은 이러한 무거운 메세지를 쉽고 편하게 풀어나간다는 것이다. \\'폭력과 차별\\'을 주제로 한 영화들은 많았지만, 남에게 추천해주기에는 부담스러운 경우가 대다수였다. 왜냐하면 극장을 나오고 나면 기분이 우울해지고 무겁게 다가오기 때문에, 주제에 대해서 편한 마음으로 대하기가 어려웠다. 하지만 [주토피아]는 디즈니의 밝은 면과 픽사의 어두운 면, 두가지를 수용해서 시너지를 내는 효과를 발휘했다. 그 결과 [주토피아]는 무거운 주제를 다루면서도 관객들에게 친절하고 따뜻한 모습으로 다가온다. 그렇기에 [주토피아]는 그 누구도 미워할수 없는 영화이다. 사회문제 조차도 따뜻하게 포용하는 디즈니이기에 [주토피아]를 또 하나의 걸작으로 보고싶은 이유이다.\\n']\n"
          ]
        }
      ]
    },
    {
      "cell_type": "markdown",
      "source": [
        "## 2) Part 1에서 수집한 리뷰를 긍정, 부정으로 감성 분류 예측"
      ],
      "metadata": {
        "id": "s8oeOiJTw8v2"
      }
    },
    {
      "cell_type": "code",
      "source": [
        "# 첫 번째 리뷰를 선택\n",
        "test_sample = df['review'][0]\n",
        "test_sample"
      ],
      "metadata": {
        "id": "WUZmrHFZyyDR",
        "colab": {
          "base_uri": "https://localhost:8080/",
          "height": 236
        },
        "outputId": "d6d63d17-ca33-4e1e-bd56-aec110022240"
      },
      "execution_count": null,
      "outputs": [
        {
          "output_type": "execute_result",
          "data": {
            "text/plain": [
              "'\\n★★★★☆\"사회문제조차도 따뜻하게 포용하는 디즈니의 또다른 걸작.\"픽사는 디즈니를 닮아가고, 디즈니는 픽사를 닮아간다. 2010년대의 디즈니와 픽사의 관계를 한줄로 요약하자면 아마 이럴것이다. 이것은 단순히 픽사가 [메리다와 마법의 숲]같은 프린세스물을 만들었기에 하는 소리도 아니고, 디즈니가 [주먹왕 랄프]같이 전성기의 픽사처럼 통통튀는 상상력을 토대로한 작품을 만들었기 때문에 하는 소리도 아니다. 최근 픽사는 디즈니가 줄곧 그래왔던것처럼 \\'가족\\'이나 \\'감정\\' 같은 다소 개인적인 주제로 작품에 접근하고 있는 반면에 ([인사이드 아웃]이나 [굿 다이노]), 디즈니는 전성기 시절 픽사가 그랬던것 처럼 \\'정치적\\'인 주제로 작품에 접근하고 있다. \\'정치적\\'이라는 단어가 다소 생소하게 느껴질텐데, 디즈니가 펑크 록밴드처럼 \\'대통령 엿먹어!\\' \\'전쟁 반대!\\' 이런 구호를 외친다는것이 아니라 사회 시스템에 대해 관심을 가지기 시작했다는 의미이다. 이 뜻을 설명하기 위해서는 잠시 2000년대 중반으로 돌아가서 픽사의 전성기 시절을 되돌아 보아야 한다. 그때 당시 평론가들이 픽사 스튜디오에게 내린 주된 평은 이것이였다. \\'가장 정치적이면서 가장 정치적이지 않은 회사.\\' 여러분이 재밌게 보았던 [인크레더블]이나 [월E]같은 작품들을 떠올려보자. [인크레더블]은 \\'히어로 패밀리\\'라는 큰 주제를 가지고 있지만 은연중에 고객들을 등쳐먹고 있는 보험회사를 비판하기도 하고, [월E]에서는 대기업의 독점이 사회 시스템에 얼마나 악영향을 미치고 있는지를 보여주고 있다. 잘 생각해보면 픽사 작품에서 \\'숲\\'은 가족영화의 형태를 띄고 있지만 숲을 구성하고 있는 \\'나무\\'들은 사회를 바라보는 시니컬한 시선의 주제들로 구성되어있다. 픽사는 그런 영화를 만들던 회사였다.\\xa0그런데 픽사가 디즈니의 산하회사로 들어가게된 이후 픽사와 디즈니간의 교류가 잦아지면서 점차 둘을 구분하던 경계선이 흐릿해졌다. 이제는 픽사가 디즈니처럼 보이고, 디즈니가 픽사처럼 보이는 지경까지 이르게 된것이다. 하지만 놀랍게도 서로의 아이덴티티를 뒤바꾼 결과 그 시너지는 실로 엄청났다. 그 사실은 [인사이드 아웃]과 [주토피아]가 증명하고 있다.[주토피아]는 우선 그 동안 디즈니 영화에서 느꼈던 독특한 장점들이 통통튀는 작품이다. 매력적인 캐릭터를 만드는데 일가견이 된 디즈니는 이번에도 역시 사랑스러운 캐릭터를 통해 성공적인 스토리 텔링을 이끌어내고 있다. 마치 최대한 사랑스럽게 풀어낸 범죄 스릴러를 보는것 같다. 개인의 사건이 사실은 큰 흑막에 가려져 있었다는 전개는 그 동안 많이 봐왔었던 것이지만 [주토피아]에서는 그것이 식상해보인다던가 틀에 박혀있다는 인상을 받지 않았다. 우선 장르 특성상 어린 아이들을 타겟층으로 한 애니메이션에서 이러한 시도는 그동안 보지 못했던것이였고, 무엇보다 전체적인 소재와 배경 자체가 독특하기 때문이다. 동물을 의인화한 애니메이션은 많았지만 동물이 극도로 진화해서 현재 인간이 살고있는 사회처럼 살아가고 있고,\\xa0그와 동시에 동물이 진보된 사회를 이룩하긴 했지만 아직도 본능은 남아있다는 설정이 상당히 새롭게 다가왔다. 그렇기에 독특한 소재를 등에 업고 이끌어 나가는 이야기에는 확실히 개성이 있다. 또한 이러한 영화적 요소를 고려하지 않고 그저 캐릭터들이 어떻게 행동하고 어떻게 말하는지를 보는것 자체만으로도 즐겁다. 앞서 말했듯이 디즈니는 매력적인 캐릭터를 창조해내는데 일가견이 되었기 때문에, 그리고 귀여운 캐릭터들을 둘러싸고 있는 세계가 마치 살아 숨쉬는것 같기 때문에 그들이 창조한 \\'주토피아\\'라는 세계는 매력적이고 사랑스럽다.그런데 [주토피아]는 디즈니 특유의 장점을 잘 살린 작품이기도 하지만 아이러니 하게도 동시에 이전의 디즈니 영화들과는 다소 다른 양상을 띄고 있다. [주먹왕 랄프]가 \\'픽사\\' 스타일에 가까웠고 [겨울왕국]이 전형적인 \\'디즈니\\'의 스타일을 가지고 있다면 [주토피아]는 그 두개의 모습을 모두 갖춘듯한 스타일을 가지고 있다. 이 뜻은, [주토피아]의 귀엽고 발랄한 분위기의 세계 이면에는 무거운 주제의식이 자리잡고 있다는것이다. 태초에 동물들은 쫓기는 약자와 그들을 사냥하는 포식자로 나뉘어 있었다. 하지만 시간이 흘러 동물들도 진화했고, 서로 다른 동물들이 살아가는 \\'주토피아\\'는 포식자와 약자의 구분없이 평등하고 평화롭게 살아가자는 모토를 토대로 세워진 발전된 도시였다. 하지만 그럼에도 불구하고 \\'포식자\\'들에 대한 \\'약자\\'들의 공포는 아직까지도 남아있었다. 닉과 주디가 조사한 사건으로 인해 공포는 전 도시에 만연하게 되었고, 도시는 약자들과 포식자들로 나누어졌다. 그런데 옛날과는 달리 상황은 달라졌다. 다수인 \\'약자\\'들이 소수인 \\'포식자\\'들을 억압하기 시작한것이다. \\'포식자\\'들은 차별당했고, 억압받았다. 폭력의 양상이 뒤바뀐것이다. [주토피아]는 관객들로 하여금 한가지 질문을 던진다. \\'약자\\'가 \\'포식자\\'에 가하는 차별이 과연 정당화될수 있을까?\\xa0폭력의 역사는 인류가 걸어온 역사의 발자취를 따라왔고 그리고 지금의 사회에서도 버젓이 벌어지고 있는 이슈이다. 예전의 억압을 받던 이들이 다수가 되어서 힘을 행사하기도 하고, 예전에 차별을 일삼던이들이 이제는 소수가 되어서 차별을 받기도 한다. 하지만 이러한 다양한 형태의 폭력과 차별은 아무런 이익도 주지 않는다는것을 우리는 수많은 전쟁과 사회적 문제를 겪어오면서 깨달았다. [주토피아]의 결말이 그러하듯 폭력과 차별은 공포정치의 한 형태일뿐이다. 서로를 증오하고, 사회가 분열되는것의 결과는 현대사회가 추구하는 \\'평등과 평화\\'라는 목적과는 거리가 먼것이였다.[주토피아]에서 정말 높게 평가하고 싶은점은 이러한 무거운 메세지를 쉽고 편하게 풀어나간다는 것이다. \\'폭력과 차별\\'을 주제로 한 영화들은 많았지만, 남에게 추천해주기에는 부담스러운 경우가 대다수였다. 왜냐하면 극장을 나오고 나면 기분이 우울해지고 무겁게 다가오기 때문에, 주제에 대해서 편한 마음으로 대하기가 어려웠다. 하지만 [주토피아]는 디즈니의 밝은 면과 픽사의 어두운 면, 두가지를 수용해서 시너지를 내는 효과를 발휘했다. 그 결과 [주토피아]는 무거운 주제를 다루면서도 관객들에게 친절하고 따뜻한 모습으로 다가온다. 그렇기에 [주토피아]는 그 누구도 미워할수 없는 영화이다. 사회문제 조차도 따뜻하게 포용하는 디즈니이기에 [주토피아]를 또 하나의 걸작으로 보고싶은 이유이다.\\n'"
            ],
            "application/vnd.google.colaboratory.intrinsic+json": {
              "type": "string"
            }
          },
          "metadata": {},
          "execution_count": 52
        }
      ]
    },
    {
      "cell_type": "code",
      "source": [
        "# 한글을 제외하고 전부 제거\n",
        "test_sample = re.sub(r\"[^가-힣]\", \"\", test_sample)\n",
        "test_sample"
      ],
      "metadata": {
        "id": "brF6le5Uy2IP",
        "colab": {
          "base_uri": "https://localhost:8080/",
          "height": 272
        },
        "outputId": "8c31b3fb-2403-42cc-d74b-aa626b3ca41b"
      },
      "execution_count": null,
      "outputs": [
        {
          "output_type": "execute_result",
          "data": {
            "text/plain": [
              "'사회문제조차도따뜻하게포용하는디즈니의또다른걸작픽사는디즈니를닮아가고디즈니는픽사를닮아간다년대의디즈니와픽사의관계를한줄로요약하자면아마이럴것이다이것은단순히픽사가메리다와마법의숲같은프린세스물을만들었기에하는소리도아니고디즈니가주먹왕랄프같이전성기의픽사처럼통통튀는상상력을토대로한작품을만들었기때문에하는소리도아니다최근픽사는디즈니가줄곧그래왔던것처럼가족이나감정같은다소개인적인주제로작품에접근하고있는반면에인사이드아웃이나굿다이노디즈니는전성기시절픽사가그랬던것처럼정치적인주제로작품에접근하고있다정치적이라는단어가다소생소하게느껴질텐데디즈니가펑크록밴드처럼대통령엿먹어전쟁반대이런구호를외친다는것이아니라사회시스템에대해관심을가지기시작했다는의미이다이뜻을설명하기위해서는잠시년대중반으로돌아가서픽사의전성기시절을되돌아보아야한다그때당시평론가들이픽사스튜디오에게내린주된평은이것이였다가장정치적이면서가장정치적이지않은회사여러분이재밌게보았던인크레더블이나월같은작품들을떠올려보자인크레더블은히어로패밀리라는큰주제를가지고있지만은연중에고객들을등쳐먹고있는보험회사를비판하기도하고월에서는대기업의독점이사회시스템에얼마나악영향을미치고있는지를보여주고있다잘생각해보면픽사작품에서숲은가족영화의형태를띄고있지만숲을구성하고있는나무들은사회를바라보는시니컬한시선의주제들로구성되어있다픽사는그런영화를만들던회사였다그런데픽사가디즈니의산하회사로들어가게된이후픽사와디즈니간의교류가잦아지면서점차둘을구분하던경계선이흐릿해졌다이제는픽사가디즈니처럼보이고디즈니가픽사처럼보이는지경까지이르게된것이다하지만놀랍게도서로의아이덴티티를뒤바꾼결과그시너지는실로엄청났다그사실은인사이드아웃과주토피아가증명하고있다주토피아는우선그동안디즈니영화에서느꼈던독특한장점들이통통튀는작품이다매력적인캐릭터를만드는데일가견이된디즈니는이번에도역시사랑스러운캐릭터를통해성공적인스토리텔링을이끌어내고있다마치최대한사랑스럽게풀어낸범죄스릴러를보는것같다개인의사건이사실은큰흑막에가려져있었다는전개는그동안많이봐왔었던것이지만주토피아에서는그것이식상해보인다던가틀에박혀있다는인상을받지않았다우선장르특성상어린아이들을타겟층으로한애니메이션에서이러한시도는그동안보지못했던것이였고무엇보다전체적인소재와배경자체가독특하기때문이다동물을의인화한애니메이션은많았지만동물이극도로진화해서현재인간이살고있는사회처럼살아가고있고그와동시에동물이진보된사회를이룩하긴했지만아직도본능은남아있다는설정이상당히새롭게다가왔다그렇기에독특한소재를등에업고이끌어나가는이야기에는확실히개성이있다또한이러한영화적요소를고려하지않고그저캐릭터들이어떻게행동하고어떻게말하는지를보는것자체만으로도즐겁다앞서말했듯이디즈니는매력적인캐릭터를창조해내는데일가견이되었기때문에그리고귀여운캐릭터들을둘러싸고있는세계가마치살아숨쉬는것같기때문에그들이창조한주토피아라는세계는매력적이고사랑스럽다그런데주토피아는디즈니특유의장점을잘살린작품이기도하지만아이러니하게도동시에이전의디즈니영화들과는다소다른양상을띄고있다주먹왕랄프가픽사스타일에가까웠고겨울왕국이전형적인디즈니의스타일을가지고있다면주토피아는그두개의모습을모두갖춘듯한스타일을가지고있다이뜻은주토피아의귀엽고발랄한분위기의세계이면에는무거운주제의식이자리잡고있다는것이다태초에동물들은쫓기는약자와그들을사냥하는포식자로나뉘어있었다하지만시간이흘러동물들도진화했고서로다른동물들이살아가는주토피아는포식자와약자의구분없이평등하고평화롭게살아가자는모토를토대로세워진발전된도시였다하지만그럼에도불구하고포식자들에대한약자들의공포는아직까지도남아있었다닉과주디가조사한사건으로인해공포는전도시에만연하게되었고도시는약자들과포식자들로나누어졌다그런데옛날과는달리상황은달라졌다다수인약자들이소수인포식자들을억압하기시작한것이다포식자들은차별당했고억압받았다폭력의양상이뒤바뀐것이다주토피아는관객들로하여금한가지질문을던진다약자가포식자에가하는차별이과연정당화될수있을까폭력의역사는인류가걸어온역사의발자취를따라왔고그리고지금의사회에서도버젓이벌어지고있는이슈이다예전의억압을받던이들이다수가되어서힘을행사하기도하고예전에차별을일삼던이들이이제는소수가되어서차별을받기도한다하지만이러한다양한형태의폭력과차별은아무런이익도주지않는다는것을우리는수많은전쟁과사회적문제를겪어오면서깨달았다주토피아의결말이그러하듯폭력과차별은공포정치의한형태일뿐이다서로를증오하고사회가분열되는것의결과는현대사회가추구하는평등과평화라는목적과는거리가먼것이였다주토피아에서정말높게평가하고싶은점은이러한무거운메세지를쉽고편하게풀어나간다는것이다폭력과차별을주제로한영화들은많았지만남에게추천해주기에는부담스러운경우가대다수였다왜냐하면극장을나오고나면기분이우울해지고무겁게다가오기때문에주제에대해서편한마음으로대하기가어려웠다하지만주토피아는디즈니의밝은면과픽사의어두운면두가지를수용해서시너지를내는효과를발휘했다그결과주토피아는무거운주제를다루면서도관객들에게친절하고따뜻한모습으로다가온다그렇기에주토피아는그누구도미워할수없는영화이다사회문제조차도따뜻하게포용하는디즈니이기에주토피아를또하나의걸작으로보고싶은이유이다'"
            ],
            "application/vnd.google.colaboratory.intrinsic+json": {
              "type": "string"
            }
          },
          "metadata": {},
          "execution_count": 53
        }
      ]
    },
    {
      "cell_type": "code",
      "source": [
        "# 두 글자 이상의 명사만을 추출\n",
        "\n",
        "tokens = okt.nouns(test_sample)\n",
        "cleaned_tokens = []\n",
        "for word in tokens:\n",
        "    if len(word) > 1:\n",
        "        cleaned_tokens.append(word)\n",
        "    else:\n",
        "        pass\n",
        "cleaned_review = \" \".join(cleaned_tokens)\n",
        "\n",
        "cleaned_review"
      ],
      "metadata": {
        "id": "j2a6H5Dky48A",
        "colab": {
          "base_uri": "https://localhost:8080/",
          "height": 236
        },
        "outputId": "173393c5-6e2f-4f9a-9ac7-281d5412af6b"
      },
      "execution_count": null,
      "outputs": [
        {
          "output_type": "execute_result",
          "data": {
            "text/plain": [
              "'사회 문제 디즈니 걸작 픽사 디즈니 디즈니 픽사 간다 년대 디즈니 픽사 관계 요약 픽사 메리다 마법 프린세스 소리 도아 디즈니 주먹 랄프 전성기 픽사 통통 상상력 토대 작품 때문 소리 도아 최근 픽사 디즈니 줄곧 가족 감정 개인 주제 작품 접근 반면 인사이드아웃 다이노 디즈니 전성기 시절 픽사 정치 주제 작품 접근 정치 단어 다소 디즈니 펑크록 밴드 대통령 엿먹어 쟁반 구호 사회 시스템 대해 관심 가지 시작 의미 설명 위해 잠시 년대 중반 픽사 전성기 시절 그때 당시 평론가 픽사 스튜디오 정치 이면 가장 정치 회사 여러분 인크레더블 작품 인크레더블 히어로 패밀리 주제 가지 연중 고객 보험 회사 비판 기도 대기업 독점 이사회 시스템 얼마나 영향 을미 생각 픽사 작품 가족영화 형태 구성 나무 사회 시선 주제 구성 픽사 영화 회사 픽사 디즈니 회사 이후 픽사 디즈니 교류 점차 구분 경계 흐릿 이제 픽사 디즈니 보이 디즈니 픽사 지경 서로 아이덴티티 결과 시너지 실로 다그 사실 인사이드아웃 토피아 증명 토피아 우선 그동안 디즈니 영화 장점 통통 작품 매력 캐릭터 일가견 디즈니 이번 역시 캐릭터 통해 성공 스토리텔링 마치 최대한 사랑 범죄 스릴러 개인 사건 사실 흑막 전개 그동안 만주 토피아 그것 인상 우선 장르 특성 아이 타겟 애니메이션 시도 그동안 무엇 전체 소재 배경 자체 때문 동물 의인화 애니메이션 동물 도로 진화 현재 인간 사회 와동 동물 진보 사회 본능 남아 설정 소재 이야기 개성 또한 영화 요소 고려 캐릭터 행동 자체 디즈니 매력 캐릭터 창조 일가견 때문 캐릭터 가마치 때문 창조 한주 토피아 세계 매력 토피아 디즈니 유의 장점 작품 아이러니 동시 이전 디즈니 영화 다소 다른 양상 주먹 랄프 픽사 스타일 겨울왕국 이전 디즈니 스타일 가지 토피아 모습 모두 스타일 가지 은주 토피아 분위기 세계 주제 식이 태초 동물 약자 사냥 포식자 시간 동물 진화 다른 동물 토피아 포식자 약자 구분 모토 토대 발전 도시 불구 포식자 대한 약자 공포 조사 사건 공포 도시 도시 약자 포식자 옛날 달리 상황 약자 소수 포식자 억압 시작 포식자 차별 폭력 양상 토피아 관객 한가지 질문 약자 포식자 차별 과연 정당화 폭력 역사 인류 역사 발자취 지금 사회 이슈 예전 억압 다수 행사 기도 예전 차별 일삼 이제 소수 차별 형태 폭력 차별 이익 주지 우리 전쟁 사회 문제 면서 깨달았 다주 토피아 결말 폭력 차별 공포정치 한형 태일 서로 증오 사회 분열 의결 현대 사회 추구 평등 평화 목적 거리 다주 토피아 정말 평가 메세지 폭력 차별 주제 영화 만남 추천 경우 대다수 극장 기분 때문 주제 대해 마음 대하 만주 토피아 디즈니 픽사 두운 가지 수용 시너지 효과 발휘 다그 결과 토피아 주제 관객 모습 토피아 누구 영화 사회 문제 디즈니 이기 토피아 걸작 보고 이유'"
            ],
            "application/vnd.google.colaboratory.intrinsic+json": {
              "type": "string"
            }
          },
          "metadata": {},
          "execution_count": 54
        }
      ]
    },
    {
      "cell_type": "code",
      "source": [
        "# TF-IDF 변환기에 데이터를 입력하여 변환\n",
        "test_review_tfid = tfid.transform([cleaned_review])\n",
        "\n",
        "# 배열을 출력\n",
        "print(test_review_tfid)"
      ],
      "metadata": {
        "id": "cwK7YLILzRkG",
        "colab": {
          "base_uri": "https://localhost:8080/"
        },
        "outputId": "51743b07-af8a-47c1-9ca8-46193c1a69c4"
      },
      "execution_count": null,
      "outputs": [
        {
          "metadata": {
            "tags": null
          },
          "name": "stdout",
          "output_type": "stream",
          "text": [
            "  (0, 984)\t0.025865225062956854\n",
            "  (0, 981)\t0.030426406243689526\n",
            "  (0, 980)\t0.030426406243689526\n",
            "  (0, 975)\t0.030426406243689526\n",
            "  (0, 972)\t0.10346090025182741\n",
            "  (0, 958)\t0.05173045012591371\n",
            "  (0, 954)\t0.030426406243689526\n",
            "  (0, 948)\t0.030426406243689526\n",
            "  (0, 946)\t0.02262901551332726\n",
            "  (0, 933)\t0.030426406243689526\n",
            "  (0, 923)\t0.517248906142722\n",
            "  (0, 920)\t0.030426406243689526\n",
            "  (0, 916)\t0.12932612531478427\n",
            "  (0, 913)\t0.21298484370582668\n",
            "  (0, 909)\t0.025865225062956854\n",
            "  (0, 906)\t0.030426406243689526\n",
            "  (0, 905)\t0.030426406243689526\n",
            "  (0, 904)\t0.030426406243689526\n",
            "  (0, 899)\t0.025865225062956854\n",
            "  (0, 892)\t0.030426406243689526\n",
            "  (0, 891)\t0.030426406243689526\n",
            "  (0, 889)\t0.06085281248737905\n",
            "  (0, 886)\t0.16873885407850814\n",
            "  (0, 883)\t0.06085281248737905\n",
            "  (0, 875)\t0.030426406243689526\n",
            "  :\t:\n",
            "  (0, 95)\t0.05173045012591371\n",
            "  (0, 88)\t0.030426406243689526\n",
            "  (0, 86)\t0.025865225062956854\n",
            "  (0, 83)\t0.025865225062956854\n",
            "  (0, 81)\t0.06085281248737905\n",
            "  (0, 79)\t0.02262901551332726\n",
            "  (0, 77)\t0.030426406243689526\n",
            "  (0, 76)\t0.05173045012591371\n",
            "  (0, 60)\t0.030426406243689526\n",
            "  (0, 59)\t0.030426406243689526\n",
            "  (0, 51)\t0.030426406243689526\n",
            "  (0, 49)\t0.030426406243689526\n",
            "  (0, 47)\t0.025865225062956854\n",
            "  (0, 46)\t0.06085281248737905\n",
            "  (0, 44)\t0.02262901551332726\n",
            "  (0, 37)\t0.06085281248737905\n",
            "  (0, 33)\t0.030426406243689526\n",
            "  (0, 30)\t0.04525803102665452\n",
            "  (0, 27)\t0.030426406243689526\n",
            "  (0, 20)\t0.02262901551332726\n",
            "  (0, 12)\t0.02262901551332726\n",
            "  (0, 9)\t0.11314507756663632\n",
            "  (0, 8)\t0.030426406243689526\n",
            "  (0, 7)\t0.025865225062956854\n",
            "  (0, 4)\t0.02262901551332726\n"
          ]
        }
      ]
    },
    {
      "cell_type": "code",
      "source": [
        "# 로지스틱 회귀 모델을 활용하여 분류 예측\n",
        "test_pred = lr.predict(test_review_tfid)[0]\n",
        "print(\"분석 결과 {}적인 리뷰로 예측됩니다. \".format(\"긍정\" if test_pred > '0' else \"부정\"))"
      ],
      "metadata": {
        "id": "f7HZ0O5JzT05",
        "colab": {
          "base_uri": "https://localhost:8080/"
        },
        "outputId": "3277c49c-1ff1-4eb7-8024-307dcefba1a2"
      },
      "execution_count": null,
      "outputs": [
        {
          "output_type": "stream",
          "name": "stdout",
          "text": [
            "분석 결과 부정적인 리뷰로 예측됩니다. \n"
          ]
        }
      ]
    }
  ]
}