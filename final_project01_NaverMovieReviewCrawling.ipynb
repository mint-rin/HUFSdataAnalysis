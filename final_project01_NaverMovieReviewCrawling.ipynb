{
  "nbformat": 4,
  "nbformat_minor": 0,
  "metadata": {
    "colab": {
      "provenance": [],
      "authorship_tag": "ABX9TyMNaBWDjbU5NbgHPZ1WQogO",
      "include_colab_link": true
    },
    "kernelspec": {
      "name": "python3",
      "display_name": "Python 3"
    },
    "language_info": {
      "name": "python"
    }
  },
  "cells": [
    {
      "cell_type": "markdown",
      "metadata": {
        "id": "view-in-github",
        "colab_type": "text"
      },
      "source": [
        "<a href=\"https://colab.research.google.com/github/mint-rin/HUFSdataAnalysis/blob/main/final_project01_NaverMovieReviewCrawling.ipynb\" target=\"_parent\"><img src=\"https://colab.research.google.com/assets/colab-badge.svg\" alt=\"Open In Colab\"/></a>"
      ]
    },
    {
      "cell_type": "markdown",
      "source": [
        "# 네이버 영화 리뷰 페이지에 접속하기"
      ],
      "metadata": {
        "id": "wo4N90f2L8Tz"
      }
    },
    {
      "cell_type": "code",
      "execution_count": null,
      "metadata": {
        "colab": {
          "base_uri": "https://localhost:8080/"
        },
        "id": "wING3GJ2LYeA",
        "outputId": "bd0ee58d-068e-4afd-807f-603873cdc6f3"
      },
      "outputs": [
        {
          "output_type": "stream",
          "name": "stdout",
          "text": [
            "<Response [200]>\n"
          ]
        }
      ],
      "source": [
        "# requests 패키지 불러오기 (pip install requests 설치 필요)\n",
        "import requests\n",
        "import time\n",
        "\n",
        "# 네이버 영화 사이트 - 주토피아 리뷰 페이지\n",
        "url = \"https://movie.naver.com/movie/bi/mi/review.naver?code=130850\"\n",
        "\n",
        "# requests.get\n",
        "resp = requests.get(url)\n",
        "print(resp)"
      ]
    },
    {
      "cell_type": "code",
      "source": [
        "# 서버 응답 중에서 소스코드 부분을 출력\n",
        "resp.text[150:500]"
      ],
      "metadata": {
        "colab": {
          "base_uri": "https://localhost:8080/",
          "height": 71
        },
        "id": "MQwSPvvNMiyh",
        "outputId": "13cc4f49-26c9-47c1-eaa3-3d1ef4aedfd2"
      },
      "execution_count": null,
      "outputs": [
        {
          "output_type": "execute_result",
          "data": {
            "text/plain": [
              "'ng=\"ko\">\\r\\n<head>\\r\\n<meta charset=\"utf-8\">\\r\\n<meta http-equiv=\"X-UA-Compatible\" content=\"IE=edge\">\\r\\n<meta http-equiv=\"imagetoolbar\" content=\"no\">\\r\\n<title>주토피아 : 네이버 영화</title>\\r\\n\\r\\n\\t\\r\\n\\t\\r\\n\\t\\r\\n\\t\\r\\n\\t\\r\\n\\t\\t\\r\\n\\t\\t\\r\\n\\t\\r\\n\\r\\n\\r\\n\\r\\n<meta property=\"me2:image\" content=\"https://ssl.pstatic.net/imgmovie/today/naverme/naverme_profile.jpg\"/>\\r\\n<meta property=\"me2:post_tag\" conte'"
            ],
            "application/vnd.google.colaboratory.intrinsic+json": {
              "type": "string"
            }
          },
          "metadata": {},
          "execution_count": 2
        }
      ]
    },
    {
      "cell_type": "markdown",
      "source": [
        "# BeautifulSoup 으로 HTML 해석하기"
      ],
      "metadata": {
        "id": "r_2Xkg-vMl94"
      }
    },
    {
      "cell_type": "code",
      "source": [
        "# BeautifulSoup 함수 불러오기 (pip install bs4 설치 필요)\n",
        "from bs4 import BeautifulSoup\n",
        "\n",
        "# BeautifulSoup 함수로, HTML 문서 구조를 파싱\n",
        "soup = BeautifulSoup(resp.text, 'html.parser')\n",
        "\n",
        "# 파싱한 내용을 담고 있는 객체의 자료형 확인\n",
        "print(type(soup))"
      ],
      "metadata": {
        "colab": {
          "base_uri": "https://localhost:8080/"
        },
        "id": "c6rTfRcNMlHv",
        "outputId": "6fd31f35-d7d7-4b3e-9071-5a0308bab77a"
      },
      "execution_count": null,
      "outputs": [
        {
          "output_type": "stream",
          "name": "stdout",
          "text": [
            "<class 'bs4.BeautifulSoup'>\n"
          ]
        }
      ]
    },
    {
      "cell_type": "markdown",
      "source": [
        "## 1) 영화 제목"
      ],
      "metadata": {
        "id": "Zf-dpVoeMofZ"
      }
    },
    {
      "cell_type": "code",
      "source": [
        "# <title> 주토피아 : 네이버 영화</title>\n",
        "\n",
        "# title 태그 이름을 활용하여 영화 제목이 포함되어 있는 요소를 찾습니다.\n",
        "title_tag = soup.find(name='title')\n",
        "print(title_tag)\n",
        "\n",
        "# 텍스트 부분만 추출합니다.\n",
        "title_text = title_tag.get_text()\n",
        "print(title_text)"
      ],
      "metadata": {
        "colab": {
          "base_uri": "https://localhost:8080/"
        },
        "id": "OQxbNLYfMrR0",
        "outputId": "5fd377f6-2169-43d6-ee30-00273f2ac5bd"
      },
      "execution_count": null,
      "outputs": [
        {
          "output_type": "stream",
          "name": "stdout",
          "text": [
            "<title>주토피아 : 네이버 영화</title>\n",
            "주토피아 : 네이버 영화\n"
          ]
        }
      ]
    },
    {
      "cell_type": "markdown",
      "source": [
        "## 2) 리뷰 개수"
      ],
      "metadata": {
        "id": "Rp6Clm5fMubn"
      }
    },
    {
      "cell_type": "code",
      "source": [
        "# <span class=\"cnt\">총<em>110</em>건</span>\n",
        "\n",
        "# span 태그의 class 속성값을 활용하여 리뷰 갯수가 포함되어 있는 요소를 찾습니다.\n",
        "count_tag = soup.find(name='span', attrs={'class':'cnt'})\n",
        "print(\"span 태그: \", count_tag)\n",
        "\n",
        "# count_tag 요소에서 em 태그 부분을 찾습니다.\n",
        "count_tag = count_tag.find(name='em')\n",
        "print(\"em 태그: \", count_tag)\n",
        "\n",
        "# 텍스트 부분만 추출합니다.\n",
        "count_text = count_tag.get_text()\n",
        "print(\"텍스트: \", count_text)"
      ],
      "metadata": {
        "colab": {
          "base_uri": "https://localhost:8080/"
        },
        "id": "kbl6J04cMtjB",
        "outputId": "cc101178-fd92-4d29-9261-cfc15220fb35"
      },
      "execution_count": null,
      "outputs": [
        {
          "output_type": "stream",
          "name": "stdout",
          "text": [
            "span 태그:  <span class=\"cnt\">총<em>1,970</em>건</span>\n",
            "em 태그:  <em>1,970</em>\n",
            "텍스트:  1,970\n"
          ]
        }
      ]
    },
    {
      "cell_type": "markdown",
      "source": [
        "## 3) 리뷰 목록"
      ],
      "metadata": {
        "id": "Q4Ca2KdGMyDq"
      }
    },
    {
      "cell_type": "code",
      "source": [
        "# <ul class=\"rvw_list_area\">\n",
        "\n",
        "# ul 태그의 class 속성값을 활용하여 리뷰 제목과 링크가 포함되어 있는 요소를 찾습니다.\n",
        "review_list_tag = soup.find(name='ul', attrs={'class':'rvw_list_area'})\n",
        "\n",
        "# review_list_tag 요소에 포함된 li 태그를 모두 찾습니다.\n",
        "review_list_tags = review_list_tag.find_all(name='li')\n",
        "print(\"li 태그의 수: \", len(review_list_tags))\n",
        "print(\"\\n\")\n",
        "\n",
        "# 첫 번째 원소를 출력합니다.\n",
        "print(review_list_tags[0])"
      ],
      "metadata": {
        "id": "deLf0asHM01b",
        "colab": {
          "base_uri": "https://localhost:8080/"
        },
        "outputId": "85677683-c2af-4006-c8f2-15ad5f703de1"
      },
      "execution_count": null,
      "outputs": [
        {
          "output_type": "stream",
          "name": "stdout",
          "text": [
            "li 태그의 수:  10\n",
            "\n",
            "\n",
            "<li>\n",
            "<a href=\"#\" onclick=\"clickcr(this, 'rli.title', '', '', event); showReviewDetail(4209726)\"><strong>주토피아 (Zootopia)</strong></a>\n",
            "<span class=\"user\"><a href=\"#\" onclick=\"clickcr(this, 'rli.uid', '', '', event); showReviewListByNid('4209726');\">trav****</a> <em>2016.02.20</em><em>추천 51</em></span>\n",
            "<p><a href=\"#\" onclick=\"clickcr(this, 'rli.content', '', '', event); showReviewDetail(4209726);\">★★★★☆\"사회문제조차도 따뜻하게 포용하는 디즈니의 또다른 걸작.\"픽사는 디즈니를 닮아가고, 디즈니는 픽사를 닮아간다. 2010년대의 디즈니와 픽사의 관계를 한줄로 요약하자면 아마 이럴것이다. 이것은 단순히 픽사가 [메리다와 마...</a></p>\n",
            "</li>\n"
          ]
        }
      ]
    },
    {
      "cell_type": "code",
      "source": [
        "# 첫 번째 아이템에서 리뷰 제목(rli.title), 사용자(rli.uid), 내용(rli.content) 데이터를 추출합니다.\n",
        "\n",
        "review_title = review_list_tags[0].find_all('a')[0].get_text()\n",
        "print(\"제목:\", review_title, \"\\n\")\n",
        "\n",
        "review_uid = review_list_tags[0].find_all('a')[1].get_text()\n",
        "print(\"사용자:\", review_uid, \"\\n\")\n",
        "\n",
        "review_content = review_list_tags[0].find_all('a')[2].get_text()\n",
        "print(r\"내용:\", review_content, \"\\n\")"
      ],
      "metadata": {
        "id": "RYPEBylOM5JL",
        "colab": {
          "base_uri": "https://localhost:8080/"
        },
        "outputId": "31570f78-1fe4-4426-e65a-e9f4bf39464c"
      },
      "execution_count": null,
      "outputs": [
        {
          "output_type": "stream",
          "name": "stdout",
          "text": [
            "제목: 주토피아 (Zootopia) \n",
            "\n",
            "사용자: trav**** \n",
            "\n",
            "내용: ★★★★☆\"사회문제조차도 따뜻하게 포용하는 디즈니의 또다른 걸작.\"픽사는 디즈니를 닮아가고, 디즈니는 픽사를 닮아간다. 2010년대의 디즈니와 픽사의 관계를 한줄로 요약하자면 아마 이럴것이다. 이것은 단순히 픽사가 [메리다와 마... \n",
            "\n"
          ]
        }
      ]
    },
    {
      "cell_type": "code",
      "source": [
        "# 각 리뷰 페이지로 연결할 nid 값(예: 4808692)을 포함하는 Javascript 코드를 추출합니다.\n",
        "\n",
        "review_nid = review_list_tags[0].find('a').get('onclick')\n",
        "review_nid"
      ],
      "metadata": {
        "id": "J6qEg8PgM-Bh",
        "colab": {
          "base_uri": "https://localhost:8080/",
          "height": 35
        },
        "outputId": "277a77c4-c881-4700-d86c-d49718ab3724"
      },
      "execution_count": null,
      "outputs": [
        {
          "output_type": "execute_result",
          "data": {
            "text/plain": [
              "\"clickcr(this, 'rli.title', '', '', event); showReviewDetail(4209726)\""
            ],
            "application/vnd.google.colaboratory.intrinsic+json": {
              "type": "string"
            }
          },
          "metadata": {},
          "execution_count": 8
        }
      ]
    },
    {
      "cell_type": "code",
      "source": [
        "# Javascript 코드에서 7자리 숫자를 추출합니다. (정규식 re 모듈 활용)\n",
        "\n",
        "import re\n",
        "\n",
        "review_nid = re.findall('\\d{7}', review_nid)[0]\n",
        "review_nid"
      ],
      "metadata": {
        "id": "rSTY9QCHOKKT",
        "colab": {
          "base_uri": "https://localhost:8080/",
          "height": 35
        },
        "outputId": "052d61f3-c87a-443a-dce3-58c7443624e5"
      },
      "execution_count": null,
      "outputs": [
        {
          "output_type": "execute_result",
          "data": {
            "text/plain": [
              "'4209726'"
            ],
            "application/vnd.google.colaboratory.intrinsic+json": {
              "type": "string"
            }
          },
          "metadata": {},
          "execution_count": 9
        }
      ]
    },
    {
      "cell_type": "code",
      "source": [
        "# URL을 조합합니다.\n",
        "# 예시: https://movie.naver.com/movie/bi/mi/reviewread.naver?nid=4808973&code=18847&order=#tab\n",
        "\n",
        "review_url = f\"https://movie.naver.com/movie/bi/mi/reviewread.naver?nid={review_nid}&code=18847&order=#tab\"\n",
        "review_url"
      ],
      "metadata": {
        "id": "r44I-ZLsOMJ5",
        "colab": {
          "base_uri": "https://localhost:8080/",
          "height": 35
        },
        "outputId": "66803684-81b8-48f0-a69f-ca2cb4080825"
      },
      "execution_count": null,
      "outputs": [
        {
          "output_type": "execute_result",
          "data": {
            "text/plain": [
              "'https://movie.naver.com/movie/bi/mi/reviewread.naver?nid=4209726&code=18847&order=#tab'"
            ],
            "application/vnd.google.colaboratory.intrinsic+json": {
              "type": "string"
            }
          },
          "metadata": {},
          "execution_count": 10
        }
      ]
    },
    {
      "cell_type": "code",
      "source": [
        "# 10개의 리뷰를 반복문으로 조회하면서, 리뷰 제목(rli.title), 사용자(rli.uid), 상세 페이지 url 값을 추출합니다.\n",
        "title_list = []\n",
        "uid_list = []\n",
        "url_list = []\n",
        "\n",
        "for li_tag in review_list_tags:\n",
        "\n",
        "    review_title = li_tag.find_all('a')[0].get_text()\n",
        "    title_list.append(review_title)\n",
        "\n",
        "    review_uid = li_tag.find_all('a')[1].get_text()\n",
        "    uid_list.append(review_uid)\n",
        "\n",
        "    review_nid = re.findall('\\d{7}', li_tag.find('a').get('onclick'))[0]\n",
        "    review_url = f\"https://movie.naver.com/movie/bi/mi/reviewread.naver?nid={review_nid}&code=81888&order=#tab\"\n",
        "    url_list.append(review_url)\n",
        "\n",
        "# 추출된 아이템의 수량\n",
        "print(len(title_list))\n",
        "print(len(uid_list))\n",
        "print(len(url_list))"
      ],
      "metadata": {
        "id": "zygfs5OaOOA6",
        "colab": {
          "base_uri": "https://localhost:8080/"
        },
        "outputId": "ae6af081-73b2-4d2e-e85c-c5c55a6ef394"
      },
      "execution_count": null,
      "outputs": [
        {
          "output_type": "stream",
          "name": "stdout",
          "text": [
            "10\n",
            "10\n",
            "10\n"
          ]
        }
      ]
    },
    {
      "cell_type": "code",
      "source": [
        "# 리스트 출력\n",
        "print(url_list)"
      ],
      "metadata": {
        "id": "EitUOthXOPnl",
        "colab": {
          "base_uri": "https://localhost:8080/"
        },
        "outputId": "a91bf049-e1af-4313-8579-71028467e8b8"
      },
      "execution_count": null,
      "outputs": [
        {
          "output_type": "stream",
          "name": "stdout",
          "text": [
            "['https://movie.naver.com/movie/bi/mi/reviewread.naver?nid=4209726&code=81888&order=#tab', 'https://movie.naver.com/movie/bi/mi/reviewread.naver?nid=4202922&code=81888&order=#tab', 'https://movie.naver.com/movie/bi/mi/reviewread.naver?nid=4217186&code=81888&order=#tab', 'https://movie.naver.com/movie/bi/mi/reviewread.naver?nid=4219063&code=81888&order=#tab', 'https://movie.naver.com/movie/bi/mi/reviewread.naver?nid=4257455&code=81888&order=#tab', 'https://movie.naver.com/movie/bi/mi/reviewread.naver?nid=4266969&code=81888&order=#tab', 'https://movie.naver.com/movie/bi/mi/reviewread.naver?nid=4560148&code=81888&order=#tab', 'https://movie.naver.com/movie/bi/mi/reviewread.naver?nid=4204309&code=81888&order=#tab', 'https://movie.naver.com/movie/bi/mi/reviewread.naver?nid=4209999&code=81888&order=#tab', 'https://movie.naver.com/movie/bi/mi/reviewread.naver?nid=4201777&code=81888&order=#tab']\n"
          ]
        }
      ]
    },
    {
      "cell_type": "markdown",
      "source": [
        "## 4) 리뷰 상세 페이지"
      ],
      "metadata": {
        "id": "4KDW8whyOQLP"
      }
    },
    {
      "cell_type": "code",
      "source": [
        "# 리뷰 상세페이지의 HTML 소스코드를 가져와서 파싱(parsing)\n",
        "resp_text = requests.get(url_list[0])\n",
        "soup_text = BeautifulSoup(resp_text.text, 'html.parser')\n",
        "\n",
        "# 리뷰 본문의 텍스트를 추출합니다. /  <div class=\"user_tx_area\"> )\n",
        "review_text_tag = soup_text.find(name='div', attrs={'class':'user_tx_area'})\n",
        "\n",
        "# 텍스트 부분만 추출합니다.\n",
        "review_text = review_text_tag.get_text()\n",
        "print(review_text)"
      ],
      "metadata": {
        "id": "uwPlAK93ORWs",
        "colab": {
          "base_uri": "https://localhost:8080/"
        },
        "outputId": "a5df8578-e757-4c5c-e804-623946f790bd"
      },
      "execution_count": null,
      "outputs": [
        {
          "output_type": "stream",
          "name": "stdout",
          "text": [
            "\n",
            "★★★★☆\"사회문제조차도 따뜻하게 포용하는 디즈니의 또다른 걸작.\"픽사는 디즈니를 닮아가고, 디즈니는 픽사를 닮아간다. 2010년대의 디즈니와 픽사의 관계를 한줄로 요약하자면 아마 이럴것이다. 이것은 단순히 픽사가 [메리다와 마법의 숲]같은 프린세스물을 만들었기에 하는 소리도 아니고, 디즈니가 [주먹왕 랄프]같이 전성기의 픽사처럼 통통튀는 상상력을 토대로한 작품을 만들었기 때문에 하는 소리도 아니다. 최근 픽사는 디즈니가 줄곧 그래왔던것처럼 '가족'이나 '감정' 같은 다소 개인적인 주제로 작품에 접근하고 있는 반면에 ([인사이드 아웃]이나 [굿 다이노]), 디즈니는 전성기 시절 픽사가 그랬던것 처럼 '정치적'인 주제로 작품에 접근하고 있다. '정치적'이라는 단어가 다소 생소하게 느껴질텐데, 디즈니가 펑크 록밴드처럼 '대통령 엿먹어!' '전쟁 반대!' 이런 구호를 외친다는것이 아니라 사회 시스템에 대해 관심을 가지기 시작했다는 의미이다. 이 뜻을 설명하기 위해서는 잠시 2000년대 중반으로 돌아가서 픽사의 전성기 시절을 되돌아 보아야 한다. 그때 당시 평론가들이 픽사 스튜디오에게 내린 주된 평은 이것이였다. '가장 정치적이면서 가장 정치적이지 않은 회사.' 여러분이 재밌게 보았던 [인크레더블]이나 [월E]같은 작품들을 떠올려보자. [인크레더블]은 '히어로 패밀리'라는 큰 주제를 가지고 있지만 은연중에 고객들을 등쳐먹고 있는 보험회사를 비판하기도 하고, [월E]에서는 대기업의 독점이 사회 시스템에 얼마나 악영향을 미치고 있는지를 보여주고 있다. 잘 생각해보면 픽사 작품에서 '숲'은 가족영화의 형태를 띄고 있지만 숲을 구성하고 있는 '나무'들은 사회를 바라보는 시니컬한 시선의 주제들로 구성되어있다. 픽사는 그런 영화를 만들던 회사였다. 그런데 픽사가 디즈니의 산하회사로 들어가게된 이후 픽사와 디즈니간의 교류가 잦아지면서 점차 둘을 구분하던 경계선이 흐릿해졌다. 이제는 픽사가 디즈니처럼 보이고, 디즈니가 픽사처럼 보이는 지경까지 이르게 된것이다. 하지만 놀랍게도 서로의 아이덴티티를 뒤바꾼 결과 그 시너지는 실로 엄청났다. 그 사실은 [인사이드 아웃]과 [주토피아]가 증명하고 있다.[주토피아]는 우선 그 동안 디즈니 영화에서 느꼈던 독특한 장점들이 통통튀는 작품이다. 매력적인 캐릭터를 만드는데 일가견이 된 디즈니는 이번에도 역시 사랑스러운 캐릭터를 통해 성공적인 스토리 텔링을 이끌어내고 있다. 마치 최대한 사랑스럽게 풀어낸 범죄 스릴러를 보는것 같다. 개인의 사건이 사실은 큰 흑막에 가려져 있었다는 전개는 그 동안 많이 봐왔었던 것이지만 [주토피아]에서는 그것이 식상해보인다던가 틀에 박혀있다는 인상을 받지 않았다. 우선 장르 특성상 어린 아이들을 타겟층으로 한 애니메이션에서 이러한 시도는 그동안 보지 못했던것이였고, 무엇보다 전체적인 소재와 배경 자체가 독특하기 때문이다. 동물을 의인화한 애니메이션은 많았지만 동물이 극도로 진화해서 현재 인간이 살고있는 사회처럼 살아가고 있고, 그와 동시에 동물이 진보된 사회를 이룩하긴 했지만 아직도 본능은 남아있다는 설정이 상당히 새롭게 다가왔다. 그렇기에 독특한 소재를 등에 업고 이끌어 나가는 이야기에는 확실히 개성이 있다. 또한 이러한 영화적 요소를 고려하지 않고 그저 캐릭터들이 어떻게 행동하고 어떻게 말하는지를 보는것 자체만으로도 즐겁다. 앞서 말했듯이 디즈니는 매력적인 캐릭터를 창조해내는데 일가견이 되었기 때문에, 그리고 귀여운 캐릭터들을 둘러싸고 있는 세계가 마치 살아 숨쉬는것 같기 때문에 그들이 창조한 '주토피아'라는 세계는 매력적이고 사랑스럽다.그런데 [주토피아]는 디즈니 특유의 장점을 잘 살린 작품이기도 하지만 아이러니 하게도 동시에 이전의 디즈니 영화들과는 다소 다른 양상을 띄고 있다. [주먹왕 랄프]가 '픽사' 스타일에 가까웠고 [겨울왕국]이 전형적인 '디즈니'의 스타일을 가지고 있다면 [주토피아]는 그 두개의 모습을 모두 갖춘듯한 스타일을 가지고 있다. 이 뜻은, [주토피아]의 귀엽고 발랄한 분위기의 세계 이면에는 무거운 주제의식이 자리잡고 있다는것이다. 태초에 동물들은 쫓기는 약자와 그들을 사냥하는 포식자로 나뉘어 있었다. 하지만 시간이 흘러 동물들도 진화했고, 서로 다른 동물들이 살아가는 '주토피아'는 포식자와 약자의 구분없이 평등하고 평화롭게 살아가자는 모토를 토대로 세워진 발전된 도시였다. 하지만 그럼에도 불구하고 '포식자'들에 대한 '약자'들의 공포는 아직까지도 남아있었다. 닉과 주디가 조사한 사건으로 인해 공포는 전 도시에 만연하게 되었고, 도시는 약자들과 포식자들로 나누어졌다. 그런데 옛날과는 달리 상황은 달라졌다. 다수인 '약자'들이 소수인 '포식자'들을 억압하기 시작한것이다. '포식자'들은 차별당했고, 억압받았다. 폭력의 양상이 뒤바뀐것이다. [주토피아]는 관객들로 하여금 한가지 질문을 던진다. '약자'가 '포식자'에 가하는 차별이 과연 정당화될수 있을까? 폭력의 역사는 인류가 걸어온 역사의 발자취를 따라왔고 그리고 지금의 사회에서도 버젓이 벌어지고 있는 이슈이다. 예전의 억압을 받던 이들이 다수가 되어서 힘을 행사하기도 하고, 예전에 차별을 일삼던이들이 이제는 소수가 되어서 차별을 받기도 한다. 하지만 이러한 다양한 형태의 폭력과 차별은 아무런 이익도 주지 않는다는것을 우리는 수많은 전쟁과 사회적 문제를 겪어오면서 깨달았다. [주토피아]의 결말이 그러하듯 폭력과 차별은 공포정치의 한 형태일뿐이다. 서로를 증오하고, 사회가 분열되는것의 결과는 현대사회가 추구하는 '평등과 평화'라는 목적과는 거리가 먼것이였다.[주토피아]에서 정말 높게 평가하고 싶은점은 이러한 무거운 메세지를 쉽고 편하게 풀어나간다는 것이다. '폭력과 차별'을 주제로 한 영화들은 많았지만, 남에게 추천해주기에는 부담스러운 경우가 대다수였다. 왜냐하면 극장을 나오고 나면 기분이 우울해지고 무겁게 다가오기 때문에, 주제에 대해서 편한 마음으로 대하기가 어려웠다. 하지만 [주토피아]는 디즈니의 밝은 면과 픽사의 어두운 면, 두가지를 수용해서 시너지를 내는 효과를 발휘했다. 그 결과 [주토피아]는 무거운 주제를 다루면서도 관객들에게 친절하고 따뜻한 모습으로 다가온다. 그렇기에 [주토피아]는 그 누구도 미워할수 없는 영화이다. 사회문제 조차도 따뜻하게 포용하는 디즈니이기에 [주토피아]를 또 하나의 걸작으로 보고싶은 이유이다.\n",
            "\n"
          ]
        }
      ]
    },
    {
      "cell_type": "markdown",
      "source": [
        "## 5) 10개의 리뷰 본문을 모두 수집 -> List로 정리"
      ],
      "metadata": {
        "id": "jG548pteOUYD"
      }
    },
    {
      "cell_type": "code",
      "source": [
        "# url 반복하여 텍스트를 추출하고 리스트에 추가\n",
        "\n",
        "text_list = []\n",
        "\n",
        "for url in url_list:\n",
        "\n",
        "    # 리뷰 상세페이지의 HTML 소스코드를 가져와서 파싱(parsing)\n",
        "    resp_text = requests.get(url)\n",
        "    soup_text = BeautifulSoup(resp_text.text, 'html.parser')\n",
        "\n",
        "    # 리뷰 본문의 텍스트를 추출합니다. /  <div class=\"user_tx_area\"> )\n",
        "    review_text_tag = soup_text.find(name='div', attrs={'class':'user_tx_area'})\n",
        "\n",
        "    # 텍스트 부분만 추출합니다.\n",
        "    review_text = review_text_tag.get_text()\n",
        "    text_list.append(review_text)\n",
        "\n",
        "    # 대기 시간을 추가합니다. (서버에 과도한 호출이 되지 않도록 유의)\n",
        "    time.sleep(1)\n",
        "\n",
        "\n",
        "# 추출된 아이템의 수량\n",
        "print(len(text_list))"
      ],
      "metadata": {
        "id": "v_pP1K2MOVEr",
        "colab": {
          "base_uri": "https://localhost:8080/"
        },
        "outputId": "be93ce44-0419-4a8a-acf7-f8d1784341d5"
      },
      "execution_count": null,
      "outputs": [
        {
          "output_type": "stream",
          "name": "stdout",
          "text": [
            "10\n"
          ]
        }
      ]
    },
    {
      "cell_type": "markdown",
      "source": [
        "## 6) 판다스 데이터프레임으로 정리하고, CSV 파일로 저장"
      ],
      "metadata": {
        "id": "hJMbiaOFOYbI"
      }
    },
    {
      "cell_type": "code",
      "source": [
        "# 딕셔너리 형식으로 항목별 리스트를 원소로 추가\n",
        "dict_data = {\n",
        "    'title' : title_list,\n",
        "    'user' : uid_list,\n",
        "    'review' : text_list\n",
        "}\n",
        "\n",
        "# 판다스 데이터프레임으로 변환\n",
        "import pandas as pd\n",
        "\n",
        "df_data = pd.DataFrame(dict_data)\n",
        "\n",
        "# 변환 결과를 확인\n",
        "df_data"
      ],
      "metadata": {
        "id": "UqWLvnycPXdI",
        "colab": {
          "base_uri": "https://localhost:8080/",
          "height": 363
        },
        "outputId": "41504fae-e79c-45f7-cda6-0951d68eabac"
      },
      "execution_count": null,
      "outputs": [
        {
          "output_type": "execute_result",
          "data": {
            "text/plain": [
              "                                               title      user  \\\n",
              "0                                    주토피아 (Zootopia)  trav****   \n",
              "1               주토피아 시사회 후기 - '편견'과 '다르다' 대해서 (스포주의)  dlax****   \n",
              "2                      [영화/시사회] 주토피아 _ 세상은 생각보다 단순하다  dbw8****   \n",
              "3                           주토피아를 보고 드는 의문점 (중간에 스포)  mira****   \n",
              "4                          불평등을 인정하고 내 삶을 능동적으로 창조하자  dldl****   \n",
              "5                                   주토피아를 보고(결말 있음),  nasc****   \n",
              "6  이제훈의 영화 탐정 홍길동: 사라진 마을보다 더 재미있는, 지니퍼 굿윈의 영화 주토...  pjwo****   \n",
              "7                                               주토피아  2jou****   \n",
              "8                  <주토피아 , 2016> 틀림이 아닌 다름을 말하는 버디무비  jong****   \n",
              "9        [영화시사회] 겨울왕국 & 빅 히어로 제작진의 추격전의 신세계 - <주토피아>  joun****   \n",
              "\n",
              "                                              review  \n",
              "0  \\n★★★★☆\"사회문제조차도 따뜻하게 포용하는 디즈니의 또다른 걸작.\"픽사는 디즈니...  \n",
              "1  \\n※글 작성 관련하여 스포가 조금 있으니 피하고자 하시는 분은 뒤로가기를...--...  \n",
              "2  \\n​​첫인상은 솔직히 별로였다. 행여나 끝나는 순간까지 '노력으로 환경을 이겨내는...  \n",
              "3  \\n우선, 영화는 영상과 설정과 케릭터만 매력적이고 스토리는 그닥... 이라는 생각...  \n",
              "4  \\n취미로 글쓰는 중 입니다~ 많이 미흡해도 이쁘게 봐주세요!!한 사람의 인생을 멀...  \n",
              "5  \\n\\n당근 농장이 있는 촌에 살고 있던 토끼는세상을 좋게 만들겠다는 꿈을 갖고이상...  \n",
              "6  \\n   지니퍼 굿윈의 영화 주토피아는, 정말 잘 만든 애니메이션이다. 지니퍼 굿윈...  \n",
              "7  \\n\\n\\n\\n\\n주토피아\\n\\n감독\\n바이론 하워드, 리치 무어\\n출연\\n지니퍼 ...  \n",
              "8  \\n지니퍼 굿윈(주디 홉스), 제이슨 베이트먼(닉 와일드), 샤키라(가젤), 이드리...  \n",
              "9  \\n영화 시사회에 다녀왔다.뭔가 검사외전의 애니메이션 버전일 것 같은정의의 편과 사...  "
            ],
            "text/html": [
              "\n",
              "  <div id=\"df-6a2b8346-c527-4a89-ac27-95c89c3a1461\">\n",
              "    <div class=\"colab-df-container\">\n",
              "      <div>\n",
              "<style scoped>\n",
              "    .dataframe tbody tr th:only-of-type {\n",
              "        vertical-align: middle;\n",
              "    }\n",
              "\n",
              "    .dataframe tbody tr th {\n",
              "        vertical-align: top;\n",
              "    }\n",
              "\n",
              "    .dataframe thead th {\n",
              "        text-align: right;\n",
              "    }\n",
              "</style>\n",
              "<table border=\"1\" class=\"dataframe\">\n",
              "  <thead>\n",
              "    <tr style=\"text-align: right;\">\n",
              "      <th></th>\n",
              "      <th>title</th>\n",
              "      <th>user</th>\n",
              "      <th>review</th>\n",
              "    </tr>\n",
              "  </thead>\n",
              "  <tbody>\n",
              "    <tr>\n",
              "      <th>0</th>\n",
              "      <td>주토피아 (Zootopia)</td>\n",
              "      <td>trav****</td>\n",
              "      <td>\\n★★★★☆\"사회문제조차도 따뜻하게 포용하는 디즈니의 또다른 걸작.\"픽사는 디즈니...</td>\n",
              "    </tr>\n",
              "    <tr>\n",
              "      <th>1</th>\n",
              "      <td>주토피아 시사회 후기 - '편견'과 '다르다' 대해서 (스포주의)</td>\n",
              "      <td>dlax****</td>\n",
              "      <td>\\n※글 작성 관련하여 스포가 조금 있으니 피하고자 하시는 분은 뒤로가기를...--...</td>\n",
              "    </tr>\n",
              "    <tr>\n",
              "      <th>2</th>\n",
              "      <td>[영화/시사회] 주토피아 _ 세상은 생각보다 단순하다</td>\n",
              "      <td>dbw8****</td>\n",
              "      <td>\\n​​첫인상은 솔직히 별로였다. 행여나 끝나는 순간까지 '노력으로 환경을 이겨내는...</td>\n",
              "    </tr>\n",
              "    <tr>\n",
              "      <th>3</th>\n",
              "      <td>주토피아를 보고 드는 의문점 (중간에 스포)</td>\n",
              "      <td>mira****</td>\n",
              "      <td>\\n우선, 영화는 영상과 설정과 케릭터만 매력적이고 스토리는 그닥... 이라는 생각...</td>\n",
              "    </tr>\n",
              "    <tr>\n",
              "      <th>4</th>\n",
              "      <td>불평등을 인정하고 내 삶을 능동적으로 창조하자</td>\n",
              "      <td>dldl****</td>\n",
              "      <td>\\n취미로 글쓰는 중 입니다~ 많이 미흡해도 이쁘게 봐주세요!!한 사람의 인생을 멀...</td>\n",
              "    </tr>\n",
              "    <tr>\n",
              "      <th>5</th>\n",
              "      <td>주토피아를 보고(결말 있음),</td>\n",
              "      <td>nasc****</td>\n",
              "      <td>\\n\\n당근 농장이 있는 촌에 살고 있던 토끼는세상을 좋게 만들겠다는 꿈을 갖고이상...</td>\n",
              "    </tr>\n",
              "    <tr>\n",
              "      <th>6</th>\n",
              "      <td>이제훈의 영화 탐정 홍길동: 사라진 마을보다 더 재미있는, 지니퍼 굿윈의 영화 주토...</td>\n",
              "      <td>pjwo****</td>\n",
              "      <td>\\n   지니퍼 굿윈의 영화 주토피아는, 정말 잘 만든 애니메이션이다. 지니퍼 굿윈...</td>\n",
              "    </tr>\n",
              "    <tr>\n",
              "      <th>7</th>\n",
              "      <td>주토피아</td>\n",
              "      <td>2jou****</td>\n",
              "      <td>\\n\\n\\n\\n\\n주토피아\\n\\n감독\\n바이론 하워드, 리치 무어\\n출연\\n지니퍼 ...</td>\n",
              "    </tr>\n",
              "    <tr>\n",
              "      <th>8</th>\n",
              "      <td>&lt;주토피아 , 2016&gt; 틀림이 아닌 다름을 말하는 버디무비</td>\n",
              "      <td>jong****</td>\n",
              "      <td>\\n지니퍼 굿윈(주디 홉스), 제이슨 베이트먼(닉 와일드), 샤키라(가젤), 이드리...</td>\n",
              "    </tr>\n",
              "    <tr>\n",
              "      <th>9</th>\n",
              "      <td>[영화시사회] 겨울왕국 &amp; 빅 히어로 제작진의 추격전의 신세계 - &lt;주토피아&gt;</td>\n",
              "      <td>joun****</td>\n",
              "      <td>\\n영화 시사회에 다녀왔다.뭔가 검사외전의 애니메이션 버전일 것 같은정의의 편과 사...</td>\n",
              "    </tr>\n",
              "  </tbody>\n",
              "</table>\n",
              "</div>\n",
              "      <button class=\"colab-df-convert\" onclick=\"convertToInteractive('df-6a2b8346-c527-4a89-ac27-95c89c3a1461')\"\n",
              "              title=\"Convert this dataframe to an interactive table.\"\n",
              "              style=\"display:none;\">\n",
              "        \n",
              "  <svg xmlns=\"http://www.w3.org/2000/svg\" height=\"24px\"viewBox=\"0 0 24 24\"\n",
              "       width=\"24px\">\n",
              "    <path d=\"M0 0h24v24H0V0z\" fill=\"none\"/>\n",
              "    <path d=\"M18.56 5.44l.94 2.06.94-2.06 2.06-.94-2.06-.94-.94-2.06-.94 2.06-2.06.94zm-11 1L8.5 8.5l.94-2.06 2.06-.94-2.06-.94L8.5 2.5l-.94 2.06-2.06.94zm10 10l.94 2.06.94-2.06 2.06-.94-2.06-.94-.94-2.06-.94 2.06-2.06.94z\"/><path d=\"M17.41 7.96l-1.37-1.37c-.4-.4-.92-.59-1.43-.59-.52 0-1.04.2-1.43.59L10.3 9.45l-7.72 7.72c-.78.78-.78 2.05 0 2.83L4 21.41c.39.39.9.59 1.41.59.51 0 1.02-.2 1.41-.59l7.78-7.78 2.81-2.81c.8-.78.8-2.07 0-2.86zM5.41 20L4 18.59l7.72-7.72 1.47 1.35L5.41 20z\"/>\n",
              "  </svg>\n",
              "      </button>\n",
              "      \n",
              "  <style>\n",
              "    .colab-df-container {\n",
              "      display:flex;\n",
              "      flex-wrap:wrap;\n",
              "      gap: 12px;\n",
              "    }\n",
              "\n",
              "    .colab-df-convert {\n",
              "      background-color: #E8F0FE;\n",
              "      border: none;\n",
              "      border-radius: 50%;\n",
              "      cursor: pointer;\n",
              "      display: none;\n",
              "      fill: #1967D2;\n",
              "      height: 32px;\n",
              "      padding: 0 0 0 0;\n",
              "      width: 32px;\n",
              "    }\n",
              "\n",
              "    .colab-df-convert:hover {\n",
              "      background-color: #E2EBFA;\n",
              "      box-shadow: 0px 1px 2px rgba(60, 64, 67, 0.3), 0px 1px 3px 1px rgba(60, 64, 67, 0.15);\n",
              "      fill: #174EA6;\n",
              "    }\n",
              "\n",
              "    [theme=dark] .colab-df-convert {\n",
              "      background-color: #3B4455;\n",
              "      fill: #D2E3FC;\n",
              "    }\n",
              "\n",
              "    [theme=dark] .colab-df-convert:hover {\n",
              "      background-color: #434B5C;\n",
              "      box-shadow: 0px 1px 3px 1px rgba(0, 0, 0, 0.15);\n",
              "      filter: drop-shadow(0px 1px 2px rgba(0, 0, 0, 0.3));\n",
              "      fill: #FFFFFF;\n",
              "    }\n",
              "  </style>\n",
              "\n",
              "      <script>\n",
              "        const buttonEl =\n",
              "          document.querySelector('#df-6a2b8346-c527-4a89-ac27-95c89c3a1461 button.colab-df-convert');\n",
              "        buttonEl.style.display =\n",
              "          google.colab.kernel.accessAllowed ? 'block' : 'none';\n",
              "\n",
              "        async function convertToInteractive(key) {\n",
              "          const element = document.querySelector('#df-6a2b8346-c527-4a89-ac27-95c89c3a1461');\n",
              "          const dataTable =\n",
              "            await google.colab.kernel.invokeFunction('convertToInteractive',\n",
              "                                                     [key], {});\n",
              "          if (!dataTable) return;\n",
              "\n",
              "          const docLinkHtml = 'Like what you see? Visit the ' +\n",
              "            '<a target=\"_blank\" href=https://colab.research.google.com/notebooks/data_table.ipynb>data table notebook</a>'\n",
              "            + ' to learn more about interactive tables.';\n",
              "          element.innerHTML = '';\n",
              "          dataTable['output_type'] = 'display_data';\n",
              "          await google.colab.output.renderOutput(dataTable, element);\n",
              "          const docLink = document.createElement('div');\n",
              "          docLink.innerHTML = docLinkHtml;\n",
              "          element.appendChild(docLink);\n",
              "        }\n",
              "      </script>\n",
              "    </div>\n",
              "  </div>\n",
              "  "
            ]
          },
          "metadata": {},
          "execution_count": 15
        }
      ]
    },
    {
      "cell_type": "code",
      "source": [
        "# CSV 파일로 저장\n",
        "df_data.to_csv(\"zootopia.csv\", index=False)"
      ],
      "metadata": {
        "id": "QPePHdqLFYi9"
      },
      "execution_count": null,
      "outputs": []
    }
  ]
}